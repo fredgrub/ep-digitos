{
 "cells": [
  {
   "cell_type": "markdown",
   "metadata": {},
   "source": [
    "# <font color=darkblue>Fatoração de Matrizes para Sistemas de Classificação de Machine Learning</font>\n",
    "> __Trabalho para a disciplina CCM0218 (2020.2)__ <br>\n",
    "Fernando Valls Yoshida (11246714) e Lucas de Sousa Rosa (11296717)"
   ]
  },
  {
   "cell_type": "markdown",
   "metadata": {},
   "source": [
    "Para a realização deste trabalho, nos reunimos periodicamente para ler o material fornecido, acompanhando as passagens e discutindo os pseudo-códigos. Enquanto isso, foi elaborado este Jupyter Notebook, em que constam os códigos que escrevemos, as considerações sobre eles e o relatório das tarefas exigidas. Na ordem natural em que aparecem no texto fornecido, os temas abordados virão neste documento."
   ]
  },
  {
   "cell_type": "markdown",
   "metadata": {},
   "source": [
    "__Seção para importação das bibliotecas__"
   ]
  },
  {
   "cell_type": "code",
   "execution_count": 1,
   "metadata": {},
   "outputs": [],
   "source": [
    "import numpy as np\n",
    "import math"
   ]
  },
  {
   "cell_type": "markdown",
   "metadata": {},
   "source": [
    "## Primeira tarefa"
   ]
  },
  {
   "cell_type": "markdown",
   "metadata": {},
   "source": [
    "> Observação: em Álgebra Linear, é natural contar as posições de matrizes começando em 1, mas Numpy o faz começando em 0. Em face disso, aqui optou-se por manter a contagem da Álgebra sempre que possível. Em caso contrário, são feitas intervenções diretas no sistema de contagem, ou como ajuste geral (fazendo, e.g., $i = i - 1$ no início de um trecho de código) ou como ajuste de indexação no uso de um elemento da matriz (e.g., $W[i - 1, j - 1]$ para fazer $W_{i,j}$). Sempre que conveniente, tais medidas são apontadas no corpo do código."
   ]
  },
  {
   "cell_type": "markdown",
   "metadata": {},
   "source": [
    "__Determina os valores de cos(θ) e sin(θ), em conformidade com (3) e (4)__"
   ]
  },
  {
   "cell_type": "code",
   "execution_count": 2,
   "metadata": {},
   "outputs": [],
   "source": [
    "def cos_sin(W, i, j, k):\n",
    "    # ajuste de contagem\n",
    "    i = i - 1\n",
    "    j = j - 1\n",
    "    k = k - 1\n",
    "    \n",
    "    if abs(W[i,k]) > abs(W[j,k]):\n",
    "        t = -W[j,k]/W[i,k]\n",
    "        c = 1/math.sqrt(1 + t**2)\n",
    "        s = c*t\n",
    "    else:\n",
    "        t = -W[i, k]/W[j, k]\n",
    "        s = 1/math.sqrt(1 + t**2)\n",
    "        c = s*t    \n",
    "    return c, s"
   ]
  },
  {
   "cell_type": "markdown",
   "metadata": {},
   "source": [
    "__Rotação de Givens Q(i, j, θ) a ser aplicada em $W_{n \\times m}$__"
   ]
  },
  {
   "cell_type": "code",
   "execution_count": 3,
   "metadata": {},
   "outputs": [],
   "source": [
    "def rot_Givens(W, n, m, i, j, c, s):\n",
    "    # ajuste de contagem\n",
    "    i = i - 1\n",
    "    j = j - 1\n",
    "    \n",
    "    for r in range(m):\n",
    "        aux = c*W[i,r] - s*W[j,r]\n",
    "        W[j,r] = s*W[i,r] + c*W[j,r]\n",
    "        W[i,r] = aux"
   ]
  },
  {
   "cell_type": "markdown",
   "metadata": {},
   "source": [
    "__Resolução de sistemas sobredeterminados__"
   ]
  },
  {
   "cell_type": "code",
   "execution_count": 4,
   "metadata": {},
   "outputs": [],
   "source": [
    "eps = 10e-10\n",
    "def solve(W, b, n, m):\n",
    "    for k in range(1, m + 1):\n",
    "        for j in range(n, k, -1):\n",
    "            i = j - 1\n",
    "            if abs(W[j - 1, k - 1]) > eps:\n",
    "                cos, sin = cos_sin(W, i, j, k)\n",
    "                rot_Givens(W, n, m, i, j, cos, sin)\n",
    "                rot_Givens(b, n, 1, i, j, cos, sin)\n",
    "    \n",
    "    #print(W)\n",
    "    for k in range(m, 0, -1):\n",
    "        soma = 0\n",
    "        for j in range(k + 1, m + 1):\n",
    "            soma += W[k - 1, j - 1]*b[j - 1, 0]\n",
    "        b[k - 1, 0] = (b[k - 1, 0] - soma)/W[k - 1, k - 1]"
   ]
  },
  {
   "cell_type": "markdown",
   "metadata": {},
   "source": [
    "__Vários sistemas simultâneos__"
   ]
  },
  {
   "cell_type": "code",
   "execution_count": 5,
   "metadata": {},
   "outputs": [],
   "source": [
    "eps = 10e-10\n",
    "def solve_multi(W, A, n, m, p):\n",
    "    for k in range(1, p + 1):\n",
    "        for j in range(n, k, -1):\n",
    "            i = j - 1\n",
    "            if abs(W[j - 1, k - 1]) > eps:\n",
    "                cos, sin = cos_sin(W, i, j, k)\n",
    "                rot_Givens(W, n, p, i, j, cos, sin)\n",
    "                rot_Givens(A, n, m, i, j, cos, sin)\n",
    "    \n",
    "    #print(W)\n",
    "    for k in range(p, 0, -1):\n",
    "        for j in range(1, m + 1):\n",
    "            soma = 0\n",
    "            for i in range(k+1,p+1):\n",
    "                soma += W[k-1,i-1]*A[i-1,j-1]\n",
    "            A[k-1,j-1] = (A[k-1,j-1] - soma)/W[k-1,k-1]"
   ]
  },
  {
   "cell_type": "markdown",
   "metadata": {},
   "source": [
    "## Segunda tarefa"
   ]
  },
  {
   "cell_type": "markdown",
   "metadata": {},
   "source": [
    "__Determina o erro quadrático $E = \\| A - WH  \\|^2 $__"
   ]
  },
  {
   "cell_type": "code",
   "execution_count": 6,
   "metadata": {},
   "outputs": [],
   "source": [
    "def erro(A,W,H,n,m):\n",
    "    E = 0\n",
    "    prod = W.dot(H)\n",
    "    for i in range(1,n+1):\n",
    "        for j in range(1,m+1):\n",
    "            E += (A[i-1,j-1] - prod[i-1,j-1])**2\n",
    "    return E"
   ]
  },
  {
   "cell_type": "markdown",
   "metadata": {},
   "source": [
    "__Normaliza W de tal modo que $w_{i,j} = \\frac{w_{i,j}}{s_{j}}$, com $s_{j} = \\sqrt{\\sum_{i=1}^{n}w_{i,j}^2}$__"
   ]
  },
  {
   "cell_type": "code",
   "execution_count": 7,
   "metadata": {},
   "outputs": [],
   "source": [
    "def norm(W,n,p):\n",
    "    for j in range(1,p+1):\n",
    "        s = 0\n",
    "        for i in range(1,n+1):\n",
    "            s += (W[i-1,j-1])**2\n",
    "        s = math.sqrt(s)\n",
    "        for i in range(1,n+1):\n",
    "            W[i-1,j-1] = W[i-1,j-1]/s"
   ]
  },
  {
   "cell_type": "markdown",
   "metadata": {},
   "source": [
    "__Define $H_{p \\times m}$ a partir de $A_{n \\times m}$. H é definido a partir da porção superior (p primeiras linhas e todas as m colunas) de A, sendo ainda que $h_{i,j} = a_{i,j}$, se e somente se $a_{i,j} \\geq 0$, do contrário $h_{i,j} = 0$__"
   ]
  },
  {
   "cell_type": "code",
   "execution_count": 8,
   "metadata": {},
   "outputs": [],
   "source": [
    "def set_matrix(A,p,m):\n",
    "    B = np.zeros((p,m))\n",
    "    for i in range(1,p+1):\n",
    "        for j in range(1,m+1):\n",
    "            if A[i-1,j-1] > 0:\n",
    "                B[i-1,j-1] = A[i-1,j-1]\n",
    "    Bt = np.transpose(B)\n",
    "    return Bt"
   ]
  },
  {
   "cell_type": "code",
   "execution_count": 12,
   "metadata": {},
   "outputs": [],
   "source": [
    "eps = 10e-5\n",
    "it_max = 100\n",
    "def NMF(A,n,m,p):\n",
    "    W = np.random.rand(n,p)\n",
    "    A_copia = np.copy(A)\n",
    "    At_copia = np.transpose(A)\n",
    "    # convenção: iteração ímpar e1, iteração par e2\n",
    "    e1 = 0\n",
    "    e2 = 0\n",
    "    t = 0\n",
    "    while ((abs(e1 - e2) < eps and t > 2) or t < it_max):\n",
    "        print(\"e1 = {}\\n e2 = {}\".format(e1, e2))\n",
    "        norm(W,n,p)                # normalização de W\n",
    "        solve_multi(W, A, n, m, p)\n",
    "        At = np.copy(At_copia)\n",
    "        Ht = set_matrix(A,p,m)\n",
    "        solve_multi(Ht, At, m, n, p)\n",
    "        W = set_matrix(At, p, n)\n",
    "        \n",
    "        # erro\n",
    "        if t % 2 != 0:\n",
    "            e1 = erro(A_copia, W, np.transpose(Ht), n, m)\n",
    "        else:\n",
    "            e2 = erro(A_copia, W, np.transpose(Ht), n, m)\n",
    "        \n",
    "        t += 1\n",
    "        if t > it_max:\n",
    "            break\n",
    "    \n",
    "    return np.transpose(Ht), W"
   ]
  },
  {
   "cell_type": "code",
   "execution_count": 9,
   "metadata": {},
   "outputs": [
    {
     "name": "stdout",
     "output_type": "stream",
     "text": [
      "[[ 1  2  3 -4]\n",
      " [ 5  6 -7  8]\n",
      " [ 0 17  0  0]\n",
      " [ 0  5  0  3]]\n",
      "[[1. 5.]\n",
      " [2. 6.]\n",
      " [3. 0.]\n",
      " [0. 8.]]\n"
     ]
    }
   ],
   "source": [
    "matrix = np.array([[1,2,3,-4], [5,6,-7,8],[0,17,0,0],[0,5,0,3]])\n",
    "matrixt = set_matrix(matrix, 2, 4)\n",
    "\n",
    "print(\"{}\\n{}\".format(matrix, matrixt))"
   ]
  },
  {
   "cell_type": "code",
   "execution_count": 13,
   "metadata": {},
   "outputs": [
    {
     "name": "stdout",
     "output_type": "stream",
     "text": [
      "e1 = 0\n",
      " e2 = 0\n",
      "e1 = 0\n",
      " e2 = 8.743724590958761\n",
      "e1 = 9.580776245085302\n",
      " e2 = 8.743724590958761\n",
      "e1 = 9.580776245085302\n",
      " e2 = 8.924278364573276\n",
      "e1 = 8.854299262679344\n",
      " e2 = 8.924278364573276\n",
      "e1 = 8.854299262679344\n",
      " e2 = 8.854299262679344\n",
      "e1 = 8.854299262679344\n",
      " e2 = 8.854299262679344\n",
      "e1 = 8.854299262679344\n",
      " e2 = 8.854299262679344\n",
      "e1 = 8.854299262679344\n",
      " e2 = 8.854299262679344\n",
      "e1 = 8.854299262679344\n",
      " e2 = 8.854299262679344\n",
      "e1 = 8.854299262679344\n",
      " e2 = 8.854299262679344\n",
      "e1 = 8.854299262679344\n",
      " e2 = 8.854299262679344\n",
      "e1 = 8.854299262679344\n",
      " e2 = 8.854299262679344\n",
      "e1 = 8.854299262679344\n",
      " e2 = 8.854299262679344\n",
      "e1 = 8.854299262679344\n",
      " e2 = 8.854299262679344\n",
      "e1 = 8.854299262679344\n",
      " e2 = 8.854299262679344\n",
      "e1 = 8.854299262679344\n",
      " e2 = 8.854299262679344\n",
      "e1 = 8.854299262679344\n",
      " e2 = 8.854299262679344\n",
      "e1 = 8.854299262679344\n",
      " e2 = 8.854299262679344\n",
      "e1 = 8.854299262679344\n",
      " e2 = 8.854299262679344\n",
      "e1 = 8.854299262679344\n",
      " e2 = 8.854299262679344\n",
      "e1 = 8.854299262679344\n",
      " e2 = 8.854299262679344\n",
      "e1 = 8.854299262679344\n",
      " e2 = 8.854299262679344\n",
      "e1 = 8.854299262679344\n",
      " e2 = 8.854299262679344\n",
      "e1 = 8.854299262679344\n",
      " e2 = 8.854299262679344\n",
      "e1 = 8.854299262679344\n",
      " e2 = 8.854299262679344\n",
      "e1 = 8.854299262679344\n",
      " e2 = 8.854299262679344\n",
      "e1 = 8.854299262679344\n",
      " e2 = 8.854299262679344\n",
      "e1 = 8.854299262679344\n",
      " e2 = 8.854299262679344\n",
      "e1 = 8.854299262679344\n",
      " e2 = 8.854299262679344\n",
      "e1 = 8.854299262679344\n",
      " e2 = 8.854299262679344\n",
      "e1 = 8.854299262679344\n",
      " e2 = 8.854299262679344\n",
      "e1 = 8.854299262679344\n",
      " e2 = 8.854299262679344\n",
      "e1 = 8.854299262679344\n",
      " e2 = 8.854299262679344\n",
      "e1 = 8.854299262679344\n",
      " e2 = 8.854299262679344\n",
      "e1 = 8.854299262679344\n",
      " e2 = 8.854299262679344\n",
      "e1 = 8.854299262679344\n",
      " e2 = 8.854299262679344\n",
      "e1 = 8.854299262679344\n",
      " e2 = 8.854299262679344\n",
      "e1 = 8.854299262679344\n",
      " e2 = 8.854299262679344\n",
      "e1 = 8.854299262679344\n",
      " e2 = 8.854299262679344\n",
      "e1 = 8.854299262679344\n",
      " e2 = 8.854299262679344\n",
      "e1 = 8.854299262679344\n",
      " e2 = 8.854299262679344\n",
      "e1 = 8.854299262679344\n",
      " e2 = 8.854299262679344\n",
      "e1 = 8.854299262679344\n",
      " e2 = 8.854299262679344\n",
      "e1 = 8.854299262679344\n",
      " e2 = 8.854299262679344\n",
      "e1 = 8.854299262679344\n",
      " e2 = 8.854299262679344\n",
      "e1 = 8.854299262679344\n",
      " e2 = 8.854299262679344\n",
      "e1 = 8.854299262679344\n",
      " e2 = 8.854299262679344\n",
      "e1 = 8.854299262679344\n",
      " e2 = 8.854299262679344\n",
      "e1 = 8.854299262679344\n",
      " e2 = 8.854299262679344\n",
      "e1 = 8.854299262679344\n",
      " e2 = 8.854299262679344\n",
      "e1 = 8.854299262679344\n",
      " e2 = 8.854299262679344\n",
      "e1 = 8.854299262679344\n",
      " e2 = 8.854299262679344\n",
      "e1 = 8.854299262679344\n",
      " e2 = 8.854299262679344\n",
      "e1 = 8.854299262679344\n",
      " e2 = 8.854299262679344\n",
      "e1 = 8.854299262679344\n",
      " e2 = 8.854299262679344\n",
      "e1 = 8.854299262679344\n",
      " e2 = 8.854299262679344\n",
      "e1 = 8.854299262679344\n",
      " e2 = 8.854299262679344\n",
      "e1 = 8.854299262679344\n",
      " e2 = 8.854299262679344\n",
      "e1 = 8.854299262679344\n",
      " e2 = 8.854299262679344\n",
      "e1 = 8.854299262679344\n",
      " e2 = 8.854299262679344\n",
      "e1 = 8.854299262679344\n",
      " e2 = 8.854299262679344\n",
      "e1 = 8.854299262679344\n",
      " e2 = 8.854299262679344\n",
      "e1 = 8.854299262679344\n",
      " e2 = 8.854299262679344\n",
      "e1 = 8.854299262679344\n",
      " e2 = 8.854299262679344\n",
      "e1 = 8.854299262679344\n",
      " e2 = 8.854299262679344\n",
      "e1 = 8.854299262679344\n",
      " e2 = 8.854299262679344\n",
      "e1 = 8.854299262679344\n",
      " e2 = 8.854299262679344\n",
      "e1 = 8.854299262679344\n",
      " e2 = 8.854299262679344\n",
      "e1 = 8.854299262679344\n",
      " e2 = 8.854299262679344\n",
      "e1 = 8.854299262679344\n",
      " e2 = 8.854299262679344\n",
      "e1 = 8.854299262679344\n",
      " e2 = 8.854299262679344\n",
      "e1 = 8.854299262679344\n",
      " e2 = 8.854299262679344\n",
      "e1 = 8.854299262679344\n",
      " e2 = 8.854299262679344\n",
      "e1 = 8.854299262679344\n",
      " e2 = 8.854299262679344\n",
      "e1 = 8.854299262679344\n",
      " e2 = 8.854299262679344\n",
      "e1 = 8.854299262679344\n",
      " e2 = 8.854299262679344\n",
      "e1 = 8.854299262679344\n",
      " e2 = 8.854299262679344\n",
      "e1 = 8.854299262679344\n",
      " e2 = 8.854299262679344\n",
      "e1 = 8.854299262679344\n",
      " e2 = 8.854299262679344\n",
      "e1 = 8.854299262679344\n",
      " e2 = 8.854299262679344\n",
      "e1 = 8.854299262679344\n",
      " e2 = 8.854299262679344\n",
      "e1 = 8.854299262679344\n",
      " e2 = 8.854299262679344\n",
      "e1 = 8.854299262679344\n",
      " e2 = 8.854299262679344\n",
      "e1 = 8.854299262679344\n",
      " e2 = 8.854299262679344\n",
      "e1 = 8.854299262679344\n",
      " e2 = 8.854299262679344\n",
      "e1 = 8.854299262679344\n",
      " e2 = 8.854299262679344\n",
      "e1 = 8.854299262679344\n",
      " e2 = 8.854299262679344\n",
      "e1 = 8.854299262679344\n",
      " e2 = 8.854299262679344\n",
      "e1 = 8.854299262679344\n",
      " e2 = 8.854299262679344\n",
      "e1 = 8.854299262679344\n",
      " e2 = 8.854299262679344\n",
      "e1 = 8.854299262679344\n",
      " e2 = 8.854299262679344\n",
      "e1 = 8.854299262679344\n",
      " e2 = 8.854299262679344\n",
      "e1 = 8.854299262679344\n",
      " e2 = 8.854299262679344\n",
      "e1 = 8.854299262679344\n",
      " e2 = 8.854299262679344\n",
      "e1 = 8.854299262679344\n",
      " e2 = 8.854299262679344\n",
      "e1 = 8.854299262679344\n",
      " e2 = 8.854299262679344\n",
      "e1 = 8.854299262679344\n",
      " e2 = 8.854299262679344\n",
      "e1 = 8.854299262679344\n",
      " e2 = 8.854299262679344\n",
      "e1 = 8.854299262679344\n",
      " e2 = 8.854299262679344\n",
      "e1 = 8.854299262679344\n",
      " e2 = 8.854299262679344\n",
      "[[-1.32403769 -0.          0.        ]\n",
      " [-0.         -1.95110247  0.        ]]\n",
      "[[1. 0.]\n",
      " [0. 1.]\n",
      " [0. 0.]]\n"
     ]
    }
   ],
   "source": [
    "def teste():\n",
    "    A = np.array([[3.0/10, 3/5,0],[1.0/2,0,1],[4.0/10,4.0/5,0]])\n",
    "    n = 3\n",
    "    m = 3\n",
    "    p = 2\n",
    "    #I = np.identity(3)\n",
    "    #print(A.dot(I))\n",
    "    W, H = NMF(A, n, m, p)\n",
    "    print(\"{}\\n{}\".format(W,H))\n",
    "teste()"
   ]
  },
  {
   "cell_type": "markdown",
   "metadata": {},
   "source": [
    "## Exemplos para teste (tipo um Apêndice?)"
   ]
  },
  {
   "cell_type": "markdown",
   "metadata": {},
   "source": [
    "__Teste do cos_sin___"
   ]
  },
  {
   "cell_type": "code",
   "execution_count": null,
   "metadata": {},
   "outputs": [],
   "source": [
    "W = np.array([[1.0,2.0], \n",
    "              [3.0,4.0]])\n",
    "c, s = cos_sin(W, 1, 2, 1)\n",
    "\n",
    "print(\"sin: {} \\ncos: {}\".format(s,c))\n",
    "\n",
    "rot_Givens(W, 2, 2, 1, 2, c, s)\n",
    "print(W)"
   ]
  },
  {
   "cell_type": "markdown",
   "metadata": {},
   "source": [
    "__Teste do rot_Givens__"
   ]
  },
  {
   "cell_type": "code",
   "execution_count": null,
   "metadata": {},
   "outputs": [],
   "source": [
    "A = np.array([[2.0, 1.0, 1.0,-1.0, 1.0],\n",
    "              [0.0, 3.0, 0.0, 1.0, 2.0],\n",
    "              [0.0, 0.0, 2.0, 2.0,-1.0],\n",
    "              [0.0, 0.0,-1.0, 1.0, 2.0],\n",
    "              [0.0, 0.0, 0.0, 3.0, 1.0]])\n",
    "\n",
    "cos, sin = cos_sin(A, 3, 4, 3)\n",
    "\n",
    "rot_Givens(A, 5, 5, 3, 4, cos, sin)\n",
    "print(A)"
   ]
  },
  {
   "cell_type": "markdown",
   "metadata": {},
   "source": [
    "__Teste do resolvedor de sistemas sobredeterminados__"
   ]
  },
  {
   "cell_type": "code",
   "execution_count": null,
   "metadata": {},
   "outputs": [],
   "source": [
    "W = np.array([[1.0, 2.0, 3.0], [4.0, 5.0, 6.0]])\n",
    "b = np.array([[1.0], [1.0]])\n",
    "\n",
    "solve(W, b, 2, 2)\n",
    "\n",
    "print(\"final \\n{}\".format(b))"
   ]
  },
  {
   "cell_type": "markdown",
   "metadata": {},
   "source": [
    "__Teste do resolvedor de sistemas simultâneos__"
   ]
  },
  {
   "cell_type": "code",
   "execution_count": null,
   "metadata": {},
   "outputs": [],
   "source": [
    "W = np.array([[1.0, 2.0], [2.0, 1.0]])\n",
    "A = np.array([[1.0,2.0,3.0],[4.0,5.0,6.0]])\n",
    "\n",
    "solve_multi(W, A, 2, 3, 2)\n",
    "print(\"final\\n{}\".format(A))"
   ]
  }
 ],
 "metadata": {
  "kernelspec": {
   "display_name": "Python 3",
   "language": "python",
   "name": "python3"
  },
  "language_info": {
   "codemirror_mode": {
    "name": "ipython",
    "version": 3
   },
   "file_extension": ".py",
   "mimetype": "text/x-python",
   "name": "python",
   "nbconvert_exporter": "python",
   "pygments_lexer": "ipython3",
   "version": "3.7.8"
  }
 },
 "nbformat": 4,
 "nbformat_minor": 4
}
