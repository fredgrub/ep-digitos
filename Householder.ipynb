{
 "cells": [
  {
   "cell_type": "markdown",
   "metadata": {},
   "source": [
    "# Implementação do método de Householder para fatoração QR"
   ]
  },
  {
   "cell_type": "code",
   "execution_count": 2,
   "metadata": {},
   "outputs": [],
   "source": [
    "import numpy as np\n",
    "import math\n",
    "import matplotlib.pyplot as plt\n",
    "import time\n",
    "from typing import Union"
   ]
  },
  {
   "cell_type": "code",
   "execution_count": 3,
   "metadata": {},
   "outputs": [],
   "source": [
    "def householder(a):\n",
    "    w = a / (a[0] + np.copysign(np.linalg.norm(a), a[0]))\n",
    "    w[0] = 1\n",
    "    tau = 2 / (v.T @ v)\n",
    "\n",
    "    return v, tau"
   ]
  },
  {
   "cell_type": "code",
   "execution_count": 4,
   "metadata": {},
   "outputs": [],
   "source": [
    "def qr_decomposition(A: np.ndarray) -> Union[np.ndarray, np.ndarray]:\n",
    "    m,n = A.shape\n",
    "    R = A.copy()\n",
    "    Q = np.identity(m)\n",
    "\n",
    "    for j in range(0, n):\n",
    "        w, tau = householder(R[j:, j, np.newaxis])\n",
    "\n",
    "        H = np.identity(m)\n",
    "        H[j:, j:] -= tau * (w @ w.T)\n",
    "        R = H @ R\n",
    "        Q = H @ Q\n",
    "\n",
    "    return Q[:n].T, np.triu(R[:n])"
   ]
  },
  {
   "cell_type": "code",
   "execution_count": null,
   "metadata": {},
   "outputs": [],
   "source": []
  }
 ],
 "metadata": {
  "kernelspec": {
   "display_name": "Python 3",
   "language": "python",
   "name": "python3"
  },
  "language_info": {
   "codemirror_mode": {
    "name": "ipython",
    "version": 3
   },
   "file_extension": ".py",
   "mimetype": "text/x-python",
   "name": "python",
   "nbconvert_exporter": "python",
   "pygments_lexer": "ipython3",
   "version": "3.7.8"
  }
 },
 "nbformat": 4,
 "nbformat_minor": 4
}
