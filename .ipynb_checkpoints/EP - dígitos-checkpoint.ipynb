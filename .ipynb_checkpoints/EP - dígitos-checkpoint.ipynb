{
 "cells": [
  {
   "cell_type": "markdown",
   "metadata": {},
   "source": [
    "# <font color=#531AC8>Fatoração de Matrizes para Sistemas de Classificação de Machine Learning</font>\n",
    "> __Trabalho para a disciplina CCM0218 (2020.2)__ <br>\n",
    "Fernando Valls Yoshida (11246714) e Lucas de Sousa Rosa (11296717)"
   ]
  },
  {
   "cell_type": "markdown",
   "metadata": {},
   "source": [
    "Para a realização deste trabalho, nos reunimos periodicamente para ler o material fornecido, acompanhando as passagens e discutindo os pseudo-códigos. Enquanto isso, foi elaborado este Jupyter Notebook, em que constam os códigos que escrevemos, as considerações sobre eles e o relatório das tarefas exigidas. Na ordem natural em que aparecem no texto fornecido, os temas abordados virão neste documento."
   ]
  },
  {
   "cell_type": "markdown",
   "metadata": {},
   "source": [
    "__Seção para importação das bibliotecas__"
   ]
  },
  {
   "cell_type": "code",
   "execution_count": 23,
   "metadata": {},
   "outputs": [],
   "source": [
    "import numpy as np\n",
    "import math\n",
    "import matplotlib.pyplot as plt\n",
    "import time"
   ]
  },
  {
   "cell_type": "markdown",
   "metadata": {},
   "source": [
    "## <font color=#C8531A>Primeira tarefa</font>"
   ]
  },
  {
   "cell_type": "markdown",
   "metadata": {},
   "source": [
    "> Observação: em Álgebra Linear, é natural contar as posições de matrizes começando em 1, mas Numpy o faz começando em 0. Em face disso, aqui optou-se por manter a contagem da Álgebra sempre que possível. Em caso contrário, são feitas intervenções diretas no sistema de contagem, ou como ajuste geral (fazendo, e.g., $i = i - 1$ no início de um trecho de código) ou como ajuste de indexação no uso de um elemento da matriz (e.g., $W[i - 1, j - 1]$ para fazer $W_{i,j}$). Sempre que conveniente, tais medidas são apontadas no corpo do código."
   ]
  },
  {
   "cell_type": "markdown",
   "metadata": {},
   "source": [
    "A primeira tarefa trata da __resolução de sistemas lineares através da Fatoração QR__, em caso de sistemas sistemas sobredeterminados, individual (`solve`) e simultaneamente (`solve_multi`). Para ambos os casos, faz-se necessário implementar uma rotação de Givens $Q(i,j,\\theta)$ (`rot_Givens`) que, por sua vez, depende de uma implementação de `cos_sin`, definido tal como no documento de referência.<br>\n",
    "Estes quatro métodos encontram-se abaixo. As verificações de funcionamento de `cos_sin` e `rot_Givens` estão no __Apêndice__ deste documento."
   ]
  },
  {
   "cell_type": "markdown",
   "metadata": {},
   "source": [
    "__Determina os valores de cos(θ) e sin(θ), conforme (3) e (4)__"
   ]
  },
  {
   "cell_type": "code",
   "execution_count": 83,
   "metadata": {},
   "outputs": [],
   "source": [
    "def cos_sin(W, i, j, k):\n",
    "    # ajuste de contagem\n",
    "    i = i - 1\n",
    "    j = j - 1\n",
    "    k = k - 1\n",
    "    \n",
    "    if abs(W[i,k]) > abs(W[j,k]):\n",
    "        t = -W[j,k]/W[i,k]\n",
    "        c = 1/math.sqrt(1 + t**2)\n",
    "        s = c*t\n",
    "    else:\n",
    "        t = -W[i, k]/W[j, k]\n",
    "        s = 1/math.sqrt(1 + t**2)\n",
    "        c = s*t    \n",
    "    return c, s"
   ]
  },
  {
   "cell_type": "markdown",
   "metadata": {},
   "source": [
    "__Rotação de Givens Q(i, j, θ) a ser aplicada em $W_{n \\times m}$__"
   ]
  },
  {
   "cell_type": "code",
   "execution_count": 84,
   "metadata": {},
   "outputs": [],
   "source": [
    "def rot_Givens(W, n, m, i, j, c, s):\n",
    "    # ajuste de contagem\n",
    "    i = i - 1\n",
    "    j = j - 1\n",
    "\n",
    "    W[i,0:m], W[j,0:m] = c*W[i,0:m] - s*W[j,0:m], s*W[i,0:m] + c*W[j,0:m]"
   ]
  },
  {
   "cell_type": "markdown",
   "metadata": {},
   "source": [
    "> Observação: Para `solve` e `solve_multi` há a construção de uma matriz resposta, que poderia ser retornada por cada um destes métodos. Porém, em se tratando tipicamente de matrizes com muitas dimensões, optou-se neste projeto por sobrescrever estes valores resultado na matriz da direita (a matriz $b$, em um sistema $W \\cdot x = b$). Para isto, faz-se necessário provar que:<br>\n",
    "(i) os valores para a definição de um elemento em $x$ não dependem de elementos anteriores em $b$ (que, sobrescritos, estariam perdidos) e<br>\n",
    "(ii) a definição de $x_{j}$ não pode depender de valores de $x_{i}$, se, na ordem em que se avança o cálculo, j precede i (i.e., não se pode usar um elemento ainda não calculado).<br>\n",
    "<br>\n",
    ">No caso de `solve`, nota-se que, para<br>\n",
    "$x_{k} = \\left( b_{k} - \\sum_{j=k+1}^{m}w_{k,j}x_{j} \\right)/w_{k,k}$<br>\n",
    "o valor de $b_{k}$ é usado uma única vez, e somente para a definição de $x_{k}$. Ainda, para a definição deste, usa-se $x_{j}$, com $m \\leq j \\leq k+1$ (e $k$ progride de $m$ a 1, logo estes são valores anteriores a $k$). É por este motivo, na linha do que inicialmente argumentado, que se pode sobrescrever $x$ em $b$.<br>\n",
    "Analogamente, para `solve_multi` (um sistema $W \\cdot H = A$), em que há<br>\n",
    "$h_{k,j} = \\left( a_{k,j} - \\sum_{i=k+1}^{p}w_{k,i}h_{i,j} \\right)/w_{k,k}$<br>\n",
    "o valor $a_{k,j}$ é usado somente para a definição de $h_{k,j}$, tendo ainda que os $h_{i,j}$ usados têm $k+1 \\leq i \\leq p$ (e $k$ progride de $p$ a 1, logo estes valores de $i$ correspondem aos termos $k$ anteriores, já calculados) e $j$ é o mesmo do elemento calculado no momento ($h_{k,j}$). De maneira análoga, portanto, justifica-se a sobrescrita.<br>\n",
    "<br>\n",
    "Cabe ainda considerar que não necessariamente a matriz resultado e a matriz direita possuem as mesmas dimensões, motivo pelo qual, em um sistema genérico $W \\cdot x = b$, $b$ sobrescrito possui os valores de $x$ somente nas posições em que se define $x$ e o demais valores não são de interesse. Esta consideração se manifesta doravante na seleção de trechos de $b$ para definir $x$ (e.g., se $x_{3 \\times 1}$ se define a partir de $b_{5 \\times 1}$, representa-se, no corpo do código, $x$ como `b[:4,:]`."
   ]
  },
  {
   "cell_type": "markdown",
   "metadata": {},
   "source": [
    "__Resolução de sistemas sobredeterminados__"
   ]
  },
  {
   "cell_type": "code",
   "execution_count": 85,
   "metadata": {},
   "outputs": [],
   "source": [
    "def solve(W, b, n, m):\n",
    "    eps = 10e-10       # zero\n",
    "    for k in range(1, m + 1):\n",
    "        for j in range(n, k, -1):\n",
    "            i = j - 1\n",
    "            if abs(W[j - 1, k - 1]) > eps:\n",
    "                cos, sin = cos_sin(W, i, j, k)\n",
    "                rot_Givens(W, n, m, i, j, cos, sin)\n",
    "                rot_Givens(b, n, 1, i, j, cos, sin)\n",
    "    \n",
    "    for k in range(m, 0, -1):\n",
    "        soma = 0\n",
    "        for j in range(k + 1, m + 1):\n",
    "            soma += W[k - 1, j - 1]*b[j - 1, 0]\n",
    "        b[k - 1, 0] = (b[k - 1, 0] - soma)/W[k - 1, k - 1]"
   ]
  },
  {
   "cell_type": "markdown",
   "metadata": {},
   "source": [
    "__Vários sistemas simultâneos__"
   ]
  },
  {
   "cell_type": "code",
   "execution_count": 86,
   "metadata": {},
   "outputs": [],
   "source": [
    "def solve_multi(W, A, n, m, p):\n",
    "    eps = 10e-10       # zero\n",
    "    for k in range(1, p + 1):\n",
    "        for j in range(n, k, -1):\n",
    "            i = j - 1\n",
    "            if abs(W[j - 1, k - 1]) > eps:\n",
    "                cos, sin = cos_sin(W, i, j, k)\n",
    "                rot_Givens(W, n, p, i, j, cos, sin)\n",
    "                rot_Givens(A, n, m, i, j, cos, sin)\n",
    "    \n",
    "    for k in range(p, 0, -1):\n",
    "        for j in range(1, m + 1):\n",
    "            soma = 0\n",
    "            for i in range(k+1,p+1):\n",
    "                soma += W[k-1,i-1]*A[i-1,j-1]\n",
    "            A[k-1,j-1] = (A[k-1,j-1] - soma)/W[k-1,k-1]"
   ]
  },
  {
   "cell_type": "markdown",
   "metadata": {},
   "source": [
    "## Testes sugeridos"
   ]
  },
  {
   "cell_type": "markdown",
   "metadata": {},
   "source": [
    "escrever uma notinha só pra introduzir essa seção. PRA LEMBRAR DE FALAR: não seria interessante \"recortar\" a matriz direita na hora de printar?"
   ]
  },
  {
   "cell_type": "code",
   "execution_count": 87,
   "metadata": {
    "collapsed": true
   },
   "outputs": [
    {
     "name": "stdout",
     "output_type": "stream",
     "text": [
      "[[0.49230769]\n",
      " [0.01538462]\n",
      " [0.47692308]\n",
      " [0.03076923]\n",
      " [0.46153846]\n",
      " [0.04615385]\n",
      " [0.44615385]\n",
      " [0.06153846]\n",
      " [0.43076923]\n",
      " [0.07692308]\n",
      " [0.41538462]\n",
      " [0.09230769]\n",
      " [0.4       ]\n",
      " [0.10769231]\n",
      " [0.38461538]\n",
      " [0.12307692]\n",
      " [0.36923077]\n",
      " [0.13846154]\n",
      " [0.35384615]\n",
      " [0.15384615]\n",
      " [0.33846154]\n",
      " [0.16923077]\n",
      " [0.32307692]\n",
      " [0.18461538]\n",
      " [0.30769231]\n",
      " [0.2       ]\n",
      " [0.29230769]\n",
      " [0.21538462]\n",
      " [0.27692308]\n",
      " [0.23076923]\n",
      " [0.26153846]\n",
      " [0.24615385]\n",
      " [0.24615385]\n",
      " [0.26153846]\n",
      " [0.23076923]\n",
      " [0.27692308]\n",
      " [0.21538462]\n",
      " [0.29230769]\n",
      " [0.2       ]\n",
      " [0.30769231]\n",
      " [0.18461538]\n",
      " [0.32307692]\n",
      " [0.16923077]\n",
      " [0.33846154]\n",
      " [0.15384615]\n",
      " [0.35384615]\n",
      " [0.13846154]\n",
      " [0.36923077]\n",
      " [0.12307692]\n",
      " [0.38461538]\n",
      " [0.10769231]\n",
      " [0.4       ]\n",
      " [0.09230769]\n",
      " [0.41538462]\n",
      " [0.07692308]\n",
      " [0.43076923]\n",
      " [0.06153846]\n",
      " [0.44615385]\n",
      " [0.04615385]\n",
      " [0.46153846]\n",
      " [0.03076923]\n",
      " [0.47692308]\n",
      " [0.01538462]\n",
      " [0.49230769]]\n"
     ]
    }
   ],
   "source": [
    "def teste_a():\n",
    "    n = 64\n",
    "    m = 64\n",
    "    W = np.zeros((n,m))\n",
    "    b = np.zeros((n,1))\n",
    "    for i in range(1, n+1):\n",
    "        for j in range(1, m+1):\n",
    "            if i == j:\n",
    "                W[i - 1, j - 1] = 2\n",
    "            elif abs(i - j) == 1:\n",
    "                W[i - 1, j - 1] = 1\n",
    "            elif abs(i - j) > 1:\n",
    "                W[i - 1, j - 1] = 0\n",
    "            b[i - 1, 0] = 1\n",
    "    solve(W,b,n,m)\n",
    "    print(b)\n",
    "teste_a()"
   ]
  },
  {
   "cell_type": "code",
   "execution_count": 97,
   "metadata": {
    "collapsed": true
   },
   "outputs": [
    {
     "name": "stdout",
     "output_type": "stream",
     "text": [
      "[[ 56.35780802]\n",
      " [-45.87484885]\n",
      " [-43.48902374]\n",
      " [-48.5765491 ]\n",
      " [-30.14020001]\n",
      " [ 89.81211894]\n",
      " [ 48.713648  ]\n",
      " [ 59.23924714]\n",
      " [ 11.44635697]\n",
      " [109.16273559]\n",
      " [-72.87275483]\n",
      " [-54.36289269]\n",
      " [-51.44441718]\n",
      " [-25.01481463]\n",
      " [ 98.57193882]\n",
      " [218.65885869]\n",
      " [298.40022751]]\n"
     ]
    }
   ],
   "source": [
    "def teste_b():\n",
    "    n = 20\n",
    "    m = 17\n",
    "    W = np.zeros((n,m))\n",
    "    b = np.zeros((n,1))\n",
    "    \n",
    "    for i in range(1,n+1):\n",
    "        for j in range(1,m+1):\n",
    "            if abs(i - j) <= 4:\n",
    "                W[i - 1, j - 1] = 1.0/(i + j - 1)\n",
    "            elif abs(i - j) > 4:\n",
    "                W[i - 1, j - 1] = 0\n",
    "        b[i - 1, 0] = i\n",
    "    \n",
    "    solve(W, b, n, m)\n",
    "    print(b[0:m,:])\n",
    "    \n",
    "teste_b()"
   ]
  },
  {
   "cell_type": "code",
   "execution_count": 98,
   "metadata": {
    "collapsed": true
   },
   "outputs": [
    {
     "name": "stdout",
     "output_type": "stream",
     "text": [
      "[[ -0. -32. -64.]\n",
      " [  1.   1.   2.]\n",
      " [  1.  34.  68.]\n",
      " [ -0.   2.   4.]\n",
      " [ -0. -30. -60.]\n",
      " [  1.   3.   6.]\n",
      " [  1.  36.  72.]\n",
      " [ -0.   4.   8.]\n",
      " [ -0. -28. -56.]\n",
      " [  1.   5.  10.]\n",
      " [  1.  38.  76.]\n",
      " [ -0.   6.  12.]\n",
      " [ -0. -26. -52.]\n",
      " [  1.   7.  14.]\n",
      " [  1.  40.  80.]\n",
      " [ -0.   8.  16.]\n",
      " [ -0. -24. -48.]\n",
      " [  1.   9.  18.]\n",
      " [  1.  42.  84.]\n",
      " [ -0.  10.  20.]\n",
      " [ -0. -22. -44.]\n",
      " [  1.  11.  22.]\n",
      " [  1.  44.  88.]\n",
      " [ -0.  12.  24.]\n",
      " [ -0. -20. -40.]\n",
      " [  1.  13.  26.]\n",
      " [  1.  46.  92.]\n",
      " [ -0.  14.  28.]\n",
      " [ -0. -18. -36.]\n",
      " [  1.  15.  30.]\n",
      " [  1.  48.  96.]\n",
      " [ -0.  16.  32.]\n",
      " [ -0. -16. -32.]\n",
      " [  1.  17.  34.]\n",
      " [  1.  50. 100.]\n",
      " [ -0.  18.  36.]\n",
      " [ -0. -14. -28.]\n",
      " [  1.  19.  38.]\n",
      " [  1.  52. 104.]\n",
      " [ -0.  20.  40.]\n",
      " [ -0. -12. -24.]\n",
      " [  1.  21.  42.]\n",
      " [  1.  54. 108.]\n",
      " [ -0.  22.  44.]\n",
      " [ -0. -10. -20.]\n",
      " [  1.  23.  46.]\n",
      " [  1.  56. 112.]\n",
      " [ -0.  24.  48.]\n",
      " [ -0.  -8. -16.]\n",
      " [  1.  25.  50.]\n",
      " [  1.  58. 116.]\n",
      " [ -0.  26.  52.]\n",
      " [ -0.  -6. -12.]\n",
      " [  1.  27.  54.]\n",
      " [  1.  60. 120.]\n",
      " [ -0.  28.  56.]\n",
      " [ -0.  -4.  -8.]\n",
      " [  1.  29.  58.]\n",
      " [  1.  62. 124.]\n",
      " [ -0.  30.  60.]\n",
      " [ -0.  -2.  -4.]\n",
      " [  1.  31.  62.]\n",
      " [  1.  64. 128.]\n",
      " [ -0.  32.  64.]]\n"
     ]
    }
   ],
   "source": [
    "def teste_c():\n",
    "    n = 64\n",
    "    m = 3\n",
    "    p = 64\n",
    "    W = np.zeros((n,p))\n",
    "    A = np.zeros((n,m))\n",
    "    \n",
    "    for i in range(1,n+1):\n",
    "        for j in range(1, p+1):\n",
    "            if abs(i - j) == 1:\n",
    "                W[i - 1, j - 1] = 1\n",
    "            elif abs(i - j) > 1:\n",
    "                W[i - 1, j - 1] = 0\n",
    "        A[i - 1, 0] = 1\n",
    "        A[i - 1, 1] = i\n",
    "        A[i - 1, 2] = 2*i\n",
    "    solve_multi(W,A,n,m,p)\n",
    "    print(A)\n",
    "\n",
    "teste_c()"
   ]
  },
  {
   "cell_type": "code",
   "execution_count": 100,
   "metadata": {
    "collapsed": true
   },
   "outputs": [
    {
     "name": "stdout",
     "output_type": "stream",
     "text": [
      "[[ 2.88155063e+00  5.63578080e+01  1.12715616e+02]\n",
      " [-1.83376253e+00 -4.58748489e+01 -9.17496977e+01]\n",
      " [-1.51398904e+00 -4.34890237e+01 -8.69780475e+01]\n",
      " [-1.52190762e+00 -4.85765491e+01 -9.71530982e+01]\n",
      " [-4.53794614e-01 -3.01402000e+01 -6.02804000e+01]\n",
      " [ 5.85669889e+00  8.98121189e+01  1.79624238e+02]\n",
      " [ 3.42192891e+00  4.87136480e+01  9.74272960e+01]\n",
      " [ 3.65656219e+00  5.92392471e+01  1.18478494e+02]\n",
      " [ 1.20368454e+00  1.14463570e+01  2.28927139e+01]\n",
      " [ 6.12534249e+00  1.09162736e+02  2.18325471e+02]\n",
      " [-2.47971396e+00 -7.28727548e+01 -1.45745510e+02]\n",
      " [-1.47793147e+00 -5.43628927e+01 -1.08725785e+02]\n",
      " [-1.20390258e+00 -5.14444172e+01 -1.02888834e+02]\n",
      " [ 1.28414690e-01 -2.50148146e+01 -5.00296293e+01]\n",
      " [ 6.50158900e+00  9.85719388e+01  1.97143878e+02]\n",
      " [ 1.14910560e+01  2.18658859e+02  4.37317717e+02]\n",
      " [ 1.45805258e+01  2.98400228e+02  5.96800455e+02]]\n"
     ]
    }
   ],
   "source": [
    "def teste_d():\n",
    "    n = 20\n",
    "    m = 3\n",
    "    p = 17\n",
    "    W = np.zeros((n,p))\n",
    "    A = np.zeros((n,m))\n",
    "    \n",
    "    for i in range(1,n+1):\n",
    "        for j in range(1,p+1):\n",
    "            if abs(i - j) <= 4:\n",
    "                W[i - 1, j - 1] = 1.0/(i + j - 1)\n",
    "            elif abs(i - j) > 4:\n",
    "                W[i - 1, j - 1] = 0\n",
    "        A[i - 1, 0] = 1\n",
    "        A[i - 1, 1] = i\n",
    "        A[i - 1, 2] = 2*i\n",
    "    solve_multi(W,A,n,m,p)\n",
    "    print(A[0:p,:])\n",
    "teste_d()"
   ]
  },
  {
   "cell_type": "markdown",
   "metadata": {},
   "source": [
    "## <font color=#C8531A>Segunda tarefa</font>"
   ]
  },
  {
   "cell_type": "markdown",
   "metadata": {},
   "source": [
    "escrever uma notinha introduzindo a seção"
   ]
  },
  {
   "cell_type": "markdown",
   "metadata": {},
   "source": [
    "__Determina o erro quadrático $E = \\| A - WH  \\|^2 $__"
   ]
  },
  {
   "cell_type": "code",
   "execution_count": 91,
   "metadata": {},
   "outputs": [],
   "source": [
    "def erro(A,W,H,n,m):\n",
    "    E = 0\n",
    "    prod = W.dot(H)\n",
    "    for i in range(1,n+1):\n",
    "        for j in range(1,m+1):\n",
    "            E += (A[i-1,j-1] - prod[i-1,j-1])**2\n",
    "    return E"
   ]
  },
  {
   "cell_type": "markdown",
   "metadata": {},
   "source": [
    "__Normaliza $W_{n \\times p}$ de tal modo que $w_{i,j} = \\frac{w_{i,j}}{s_{j}}$, com $s_{j} = \\sqrt{\\sum_{i=1}^{n}w_{i,j}^2}$__"
   ]
  },
  {
   "cell_type": "code",
   "execution_count": 92,
   "metadata": {},
   "outputs": [],
   "source": [
    "def norm(W,n,p):\n",
    "    for j in range(1,p+1):\n",
    "        s = 0\n",
    "        for i in range(1,n+1):\n",
    "            s += (W[i-1,j-1])**2\n",
    "        s = math.sqrt(s)\n",
    "        for i in range(1,n+1):\n",
    "            W[i-1,j-1] = W[i-1,j-1]/s\n",
    "    return W"
   ]
  },
  {
   "cell_type": "markdown",
   "metadata": {},
   "source": [
    "__Define $B_{p \\times m}$ a partir de $A_{n \\times m}$. B é definido a partir da porção superior (p primeiras linhas e todas as m colunas) de A, sendo ainda que $b_{i,j} = a_{i,j}$, se e somente se $a_{i,j} \\geq 0$, do contrário $b_{i,j} = 0$__"
   ]
  },
  {
   "cell_type": "code",
   "execution_count": 93,
   "metadata": {},
   "outputs": [],
   "source": [
    "def set_matrix(A,p,m):\n",
    "    B = np.zeros((p,m))\n",
    "    for i in range(1,p+1):\n",
    "        for j in range(1,m+1):\n",
    "            if A[i-1,j-1] > 0:\n",
    "                B[i-1,j-1] = A[i-1,j-1]\n",
    "    return B"
   ]
  },
  {
   "cell_type": "markdown",
   "metadata": {},
   "source": [
    "__Fatoração por matrizes não-negativas__"
   ]
  },
  {
   "cell_type": "markdown",
   "metadata": {},
   "source": [
    "explicar o lance dos erros alternados"
   ]
  },
  {
   "cell_type": "code",
   "execution_count": 94,
   "metadata": {},
   "outputs": [],
   "source": [
    "def NMF(A,n,m,p):\n",
    "    # parâmetros\n",
    "    eps = 10e-5\n",
    "    it_max = 100\n",
    "    # inicialização de variáveis de apoio\n",
    "    e1 = 0\n",
    "    e2 = 0\n",
    "    t = 0\n",
    "    # inicialização/setagem das matrizes de interesse\n",
    "    W = np.random.rand(n,p)\n",
    "    A_copia = np.copy(A)\n",
    "    At_copia = np.copy(np.transpose(A))\n",
    "    H = np.zeros((p,m))\n",
    "    \n",
    "    while(t < it_max):\n",
    "        if (t > 1 and abs(e1 - e2) < eps):\n",
    "            break\n",
    "    \n",
    "        A = np.copy(A_copia)           # recuperar A original\n",
    "        W = norm(W,n,p)                # normalizar W\n",
    "        solve_multi(W, A, n, m, p)     # WH = A\n",
    "        H = set_matrix(A,p,m)          # H a partir de A\n",
    "\n",
    "        At = np.copy(At_copia)         # computar A^t\n",
    "        Ht = np.copy(np.transpose(H))  # computar H^t\n",
    "        solve_multi(Ht, At, m, n, p)   # (WH)^t = H^tW^t = A^t\n",
    "        Wt = set_matrix(At, p, n)      # W^t a partir de A^t\n",
    "        W = np.copy(np.transpose(Wt))  # computar W (a partir de W^t)\n",
    "        \n",
    "        if t % 2 != 0:                    # erro em iteração ímpar\n",
    "            e1 = erro(A_copia, W, H, n, m)\n",
    "        else:                             # erro em iteração par\n",
    "            e2 = erro(A_copia, W, H, n, m)\n",
    "        \n",
    "        t += 1\n",
    "    return W, H"
   ]
  },
  {
   "cell_type": "markdown",
   "metadata": {},
   "source": [
    "## <font color=#C8531A>Tarefa principal</font>"
   ]
  },
  {
   "cell_type": "markdown",
   "metadata": {},
   "source": [
    "introdução à seção"
   ]
  },
  {
   "cell_type": "code",
   "execution_count": 37,
   "metadata": {},
   "outputs": [],
   "source": [
    "def train_dig(digito, ndig_treino, p):\n",
    "    n = 784\n",
    "    A = np.loadtxt(\"dados_mnist/train_dig\" + str(digito) + \".txt\")\n",
    "    A = A[:,:ndig_treino]\n",
    "    m = ndig_treino\n",
    "    Wd, H = NMF(A,n,m,p)\n",
    "    return Wd"
   ]
  },
  {
   "cell_type": "code",
   "execution_count": 38,
   "metadata": {},
   "outputs": [],
   "source": [
    "def train_all():\n",
    "    ndig_treino = [4000]\n",
    "    ps = [15]\n",
    "\n",
    "    for ndig in ndig_treino:\n",
    "        for p in ps:\n",
    "            for digito in range(0,5):\n",
    "                start = time.time()\n",
    "                Wd = train_dig(digito, ndig, p)\n",
    "                elapsed_time_lc = (time.time() - start)\n",
    "                filename = \"dig_treino/W_\" + str(digito) + \"_\" + str(ndig) + \"_\" + str(p) + \".txt\" \n",
    "                with open(filename, \"w+\") as f:\n",
    "                    f.write(str(elapsed_time_lc))\n",
    "                    np.savetxt(f, Wd)"
   ]
  },
  {
   "cell_type": "code",
   "execution_count": 39,
   "metadata": {},
   "outputs": [
    {
     "ename": "KeyboardInterrupt",
     "evalue": "",
     "output_type": "error",
     "traceback": [
      "\u001b[1;31m---------------------------------------------------------------------------\u001b[0m",
      "\u001b[1;31mKeyboardInterrupt\u001b[0m                         Traceback (most recent call last)",
      "\u001b[1;32m<ipython-input-39-c78044e71128>\u001b[0m in \u001b[0;36m<module>\u001b[1;34m()\u001b[0m\n\u001b[1;32m----> 1\u001b[1;33m \u001b[0mtrain_all\u001b[0m\u001b[1;33m(\u001b[0m\u001b[1;33m)\u001b[0m\u001b[1;33m\u001b[0m\u001b[1;33m\u001b[0m\u001b[0m\n\u001b[0m\u001b[0;32m      2\u001b[0m \u001b[1;31m# falta os W 4...9 1000_10 e 15 e todos de 4000\u001b[0m\u001b[1;33m\u001b[0m\u001b[1;33m\u001b[0m\u001b[1;33m\u001b[0m\u001b[0m\n",
      "\u001b[1;32m<ipython-input-38-cb7d7994e547>\u001b[0m in \u001b[0;36mtrain_all\u001b[1;34m()\u001b[0m\n\u001b[0;32m      7\u001b[0m             \u001b[1;32mfor\u001b[0m \u001b[0mdigito\u001b[0m \u001b[1;32min\u001b[0m \u001b[0mrange\u001b[0m\u001b[1;33m(\u001b[0m\u001b[1;36m0\u001b[0m\u001b[1;33m,\u001b[0m\u001b[1;36m5\u001b[0m\u001b[1;33m)\u001b[0m\u001b[1;33m:\u001b[0m\u001b[1;33m\u001b[0m\u001b[1;33m\u001b[0m\u001b[0m\n\u001b[0;32m      8\u001b[0m                 \u001b[0mstart\u001b[0m \u001b[1;33m=\u001b[0m \u001b[0mtime\u001b[0m\u001b[1;33m.\u001b[0m\u001b[0mtime\u001b[0m\u001b[1;33m(\u001b[0m\u001b[1;33m)\u001b[0m\u001b[1;33m\u001b[0m\u001b[1;33m\u001b[0m\u001b[0m\n\u001b[1;32m----> 9\u001b[1;33m                 \u001b[0mWd\u001b[0m \u001b[1;33m=\u001b[0m \u001b[0mtrain_dig\u001b[0m\u001b[1;33m(\u001b[0m\u001b[0mdigito\u001b[0m\u001b[1;33m,\u001b[0m \u001b[0mndig\u001b[0m\u001b[1;33m,\u001b[0m \u001b[0mp\u001b[0m\u001b[1;33m)\u001b[0m\u001b[1;33m\u001b[0m\u001b[1;33m\u001b[0m\u001b[0m\n\u001b[0m\u001b[0;32m     10\u001b[0m                 \u001b[0melapsed_time_lc\u001b[0m \u001b[1;33m=\u001b[0m \u001b[1;33m(\u001b[0m\u001b[0mtime\u001b[0m\u001b[1;33m.\u001b[0m\u001b[0mtime\u001b[0m\u001b[1;33m(\u001b[0m\u001b[1;33m)\u001b[0m \u001b[1;33m-\u001b[0m \u001b[0mstart\u001b[0m\u001b[1;33m)\u001b[0m\u001b[1;33m\u001b[0m\u001b[1;33m\u001b[0m\u001b[0m\n\u001b[0;32m     11\u001b[0m                 \u001b[0mfilename\u001b[0m \u001b[1;33m=\u001b[0m \u001b[1;34m\"dig_treino/W_\"\u001b[0m \u001b[1;33m+\u001b[0m \u001b[0mstr\u001b[0m\u001b[1;33m(\u001b[0m\u001b[0mdigito\u001b[0m\u001b[1;33m)\u001b[0m \u001b[1;33m+\u001b[0m \u001b[1;34m\"_\"\u001b[0m \u001b[1;33m+\u001b[0m \u001b[0mstr\u001b[0m\u001b[1;33m(\u001b[0m\u001b[0mndig\u001b[0m\u001b[1;33m)\u001b[0m \u001b[1;33m+\u001b[0m \u001b[1;34m\"_\"\u001b[0m \u001b[1;33m+\u001b[0m \u001b[0mstr\u001b[0m\u001b[1;33m(\u001b[0m\u001b[0mp\u001b[0m\u001b[1;33m)\u001b[0m \u001b[1;33m+\u001b[0m \u001b[1;34m\".txt\"\u001b[0m\u001b[1;33m\u001b[0m\u001b[1;33m\u001b[0m\u001b[0m\n",
      "\u001b[1;32m<ipython-input-37-b229f373535c>\u001b[0m in \u001b[0;36mtrain_dig\u001b[1;34m(digito, ndig_treino, p)\u001b[0m\n\u001b[0;32m      1\u001b[0m \u001b[1;32mdef\u001b[0m \u001b[0mtrain_dig\u001b[0m\u001b[1;33m(\u001b[0m\u001b[0mdigito\u001b[0m\u001b[1;33m,\u001b[0m \u001b[0mndig_treino\u001b[0m\u001b[1;33m,\u001b[0m \u001b[0mp\u001b[0m\u001b[1;33m)\u001b[0m\u001b[1;33m:\u001b[0m\u001b[1;33m\u001b[0m\u001b[1;33m\u001b[0m\u001b[0m\n\u001b[0;32m      2\u001b[0m     \u001b[0mn\u001b[0m \u001b[1;33m=\u001b[0m \u001b[1;36m784\u001b[0m\u001b[1;33m\u001b[0m\u001b[1;33m\u001b[0m\u001b[0m\n\u001b[1;32m----> 3\u001b[1;33m     \u001b[0mA\u001b[0m \u001b[1;33m=\u001b[0m \u001b[0mnp\u001b[0m\u001b[1;33m.\u001b[0m\u001b[0mloadtxt\u001b[0m\u001b[1;33m(\u001b[0m\u001b[1;34m\"dados_mnist/train_dig\"\u001b[0m \u001b[1;33m+\u001b[0m \u001b[0mstr\u001b[0m\u001b[1;33m(\u001b[0m\u001b[0mdigito\u001b[0m\u001b[1;33m)\u001b[0m \u001b[1;33m+\u001b[0m \u001b[1;34m\".txt\"\u001b[0m\u001b[1;33m)\u001b[0m\u001b[1;33m\u001b[0m\u001b[1;33m\u001b[0m\u001b[0m\n\u001b[0m\u001b[0;32m      4\u001b[0m     \u001b[0mA\u001b[0m \u001b[1;33m=\u001b[0m \u001b[0mA\u001b[0m\u001b[1;33m[\u001b[0m\u001b[1;33m:\u001b[0m\u001b[1;33m,\u001b[0m\u001b[1;33m:\u001b[0m\u001b[0mndig_treino\u001b[0m\u001b[1;33m]\u001b[0m\u001b[1;33m\u001b[0m\u001b[1;33m\u001b[0m\u001b[0m\n\u001b[0;32m      5\u001b[0m     \u001b[0mm\u001b[0m \u001b[1;33m=\u001b[0m \u001b[0mndig_treino\u001b[0m\u001b[1;33m\u001b[0m\u001b[1;33m\u001b[0m\u001b[0m\n",
      "\u001b[1;32mC:\\Users\\ifeva\\miniconda3\\envs\\EPdigitos\\lib\\site-packages\\numpy\\lib\\npyio.py\u001b[0m in \u001b[0;36mloadtxt\u001b[1;34m(fname, dtype, comments, delimiter, converters, skiprows, usecols, unpack, ndmin, encoding, max_rows)\u001b[0m\n\u001b[0;32m   1137\u001b[0m         \u001b[1;31m# converting the data\u001b[0m\u001b[1;33m\u001b[0m\u001b[1;33m\u001b[0m\u001b[1;33m\u001b[0m\u001b[0m\n\u001b[0;32m   1138\u001b[0m         \u001b[0mX\u001b[0m \u001b[1;33m=\u001b[0m \u001b[1;32mNone\u001b[0m\u001b[1;33m\u001b[0m\u001b[1;33m\u001b[0m\u001b[0m\n\u001b[1;32m-> 1139\u001b[1;33m         \u001b[1;32mfor\u001b[0m \u001b[0mx\u001b[0m \u001b[1;32min\u001b[0m \u001b[0mread_data\u001b[0m\u001b[1;33m(\u001b[0m\u001b[0m_loadtxt_chunksize\u001b[0m\u001b[1;33m)\u001b[0m\u001b[1;33m:\u001b[0m\u001b[1;33m\u001b[0m\u001b[1;33m\u001b[0m\u001b[0m\n\u001b[0m\u001b[0;32m   1140\u001b[0m             \u001b[1;32mif\u001b[0m \u001b[0mX\u001b[0m \u001b[1;32mis\u001b[0m \u001b[1;32mNone\u001b[0m\u001b[1;33m:\u001b[0m\u001b[1;33m\u001b[0m\u001b[1;33m\u001b[0m\u001b[0m\n\u001b[0;32m   1141\u001b[0m                 \u001b[0mX\u001b[0m \u001b[1;33m=\u001b[0m \u001b[0mnp\u001b[0m\u001b[1;33m.\u001b[0m\u001b[0marray\u001b[0m\u001b[1;33m(\u001b[0m\u001b[0mx\u001b[0m\u001b[1;33m,\u001b[0m \u001b[0mdtype\u001b[0m\u001b[1;33m)\u001b[0m\u001b[1;33m\u001b[0m\u001b[1;33m\u001b[0m\u001b[0m\n",
      "\u001b[1;32mC:\\Users\\ifeva\\miniconda3\\envs\\EPdigitos\\lib\\site-packages\\numpy\\lib\\npyio.py\u001b[0m in \u001b[0;36mread_data\u001b[1;34m(chunk_size)\u001b[0m\n\u001b[0;32m   1053\u001b[0m         \u001b[0mline_iter\u001b[0m \u001b[1;33m=\u001b[0m \u001b[0mitertools\u001b[0m\u001b[1;33m.\u001b[0m\u001b[0mchain\u001b[0m\u001b[1;33m(\u001b[0m\u001b[1;33m[\u001b[0m\u001b[0mfirst_line\u001b[0m\u001b[1;33m]\u001b[0m\u001b[1;33m,\u001b[0m \u001b[0mfh\u001b[0m\u001b[1;33m)\u001b[0m\u001b[1;33m\u001b[0m\u001b[1;33m\u001b[0m\u001b[0m\n\u001b[0;32m   1054\u001b[0m         \u001b[0mline_iter\u001b[0m \u001b[1;33m=\u001b[0m \u001b[0mitertools\u001b[0m\u001b[1;33m.\u001b[0m\u001b[0mislice\u001b[0m\u001b[1;33m(\u001b[0m\u001b[0mline_iter\u001b[0m\u001b[1;33m,\u001b[0m \u001b[0mmax_rows\u001b[0m\u001b[1;33m)\u001b[0m\u001b[1;33m\u001b[0m\u001b[1;33m\u001b[0m\u001b[0m\n\u001b[1;32m-> 1055\u001b[1;33m         \u001b[1;32mfor\u001b[0m \u001b[0mi\u001b[0m\u001b[1;33m,\u001b[0m \u001b[0mline\u001b[0m \u001b[1;32min\u001b[0m \u001b[0menumerate\u001b[0m\u001b[1;33m(\u001b[0m\u001b[0mline_iter\u001b[0m\u001b[1;33m)\u001b[0m\u001b[1;33m:\u001b[0m\u001b[1;33m\u001b[0m\u001b[1;33m\u001b[0m\u001b[0m\n\u001b[0m\u001b[0;32m   1056\u001b[0m             \u001b[0mvals\u001b[0m \u001b[1;33m=\u001b[0m \u001b[0msplit_line\u001b[0m\u001b[1;33m(\u001b[0m\u001b[0mline\u001b[0m\u001b[1;33m)\u001b[0m\u001b[1;33m\u001b[0m\u001b[1;33m\u001b[0m\u001b[0m\n\u001b[0;32m   1057\u001b[0m             \u001b[1;32mif\u001b[0m \u001b[0mlen\u001b[0m\u001b[1;33m(\u001b[0m\u001b[0mvals\u001b[0m\u001b[1;33m)\u001b[0m \u001b[1;33m==\u001b[0m \u001b[1;36m0\u001b[0m\u001b[1;33m:\u001b[0m\u001b[1;33m\u001b[0m\u001b[1;33m\u001b[0m\u001b[0m\n",
      "\u001b[1;32mC:\\Users\\ifeva\\miniconda3\\envs\\EPdigitos\\lib\\encodings\\cp1252.py\u001b[0m in \u001b[0;36mdecode\u001b[1;34m(self, input, final)\u001b[0m\n\u001b[0;32m     20\u001b[0m \u001b[1;33m\u001b[0m\u001b[0m\n\u001b[0;32m     21\u001b[0m \u001b[1;32mclass\u001b[0m \u001b[0mIncrementalDecoder\u001b[0m\u001b[1;33m(\u001b[0m\u001b[0mcodecs\u001b[0m\u001b[1;33m.\u001b[0m\u001b[0mIncrementalDecoder\u001b[0m\u001b[1;33m)\u001b[0m\u001b[1;33m:\u001b[0m\u001b[1;33m\u001b[0m\u001b[1;33m\u001b[0m\u001b[0m\n\u001b[1;32m---> 22\u001b[1;33m     \u001b[1;32mdef\u001b[0m \u001b[0mdecode\u001b[0m\u001b[1;33m(\u001b[0m\u001b[0mself\u001b[0m\u001b[1;33m,\u001b[0m \u001b[0minput\u001b[0m\u001b[1;33m,\u001b[0m \u001b[0mfinal\u001b[0m\u001b[1;33m=\u001b[0m\u001b[1;32mFalse\u001b[0m\u001b[1;33m)\u001b[0m\u001b[1;33m:\u001b[0m\u001b[1;33m\u001b[0m\u001b[1;33m\u001b[0m\u001b[0m\n\u001b[0m\u001b[0;32m     23\u001b[0m         \u001b[1;32mreturn\u001b[0m \u001b[0mcodecs\u001b[0m\u001b[1;33m.\u001b[0m\u001b[0mcharmap_decode\u001b[0m\u001b[1;33m(\u001b[0m\u001b[0minput\u001b[0m\u001b[1;33m,\u001b[0m\u001b[0mself\u001b[0m\u001b[1;33m.\u001b[0m\u001b[0merrors\u001b[0m\u001b[1;33m,\u001b[0m\u001b[0mdecoding_table\u001b[0m\u001b[1;33m)\u001b[0m\u001b[1;33m[\u001b[0m\u001b[1;36m0\u001b[0m\u001b[1;33m]\u001b[0m\u001b[1;33m\u001b[0m\u001b[1;33m\u001b[0m\u001b[0m\n\u001b[0;32m     24\u001b[0m \u001b[1;33m\u001b[0m\u001b[0m\n",
      "\u001b[1;31mKeyboardInterrupt\u001b[0m: "
     ]
    }
   ],
   "source": [
    "train_all()\n",
    "# falta os W 4...9 1000_10 e 15 e todos de 4000"
   ]
  },
  {
   "cell_type": "code",
   "execution_count": null,
   "metadata": {},
   "outputs": [],
   "source": [
    "mat = np.array([[1.0,2.0,3.0,4.0],[3.0,4.0,5.0,6.0]])\n",
    "with open(\"testing.txt\", \"w+\") as f:\n",
    "    f.write(\"este é o tempo\\n\")\n",
    "    np.savetxt(f, mat)"
   ]
  },
  {
   "cell_type": "code",
   "execution_count": null,
   "metadata": {},
   "outputs": [],
   "source": [
    "def display(col):\n",
    "    img = np.zeros((28,28))\n",
    "    for t in range(1,785):\n",
    "        j = t // 28\n",
    "        i = t - 28*j\n",
    "        img[j - 1, i - 1] = col[t - 1, 0]\n",
    "\n",
    "    plt.imshow(img, interpolation='nearest')"
   ]
  },
  {
   "cell_type": "markdown",
   "metadata": {},
   "source": [
    "## <font color=#C8531A>Apêndice</font>"
   ]
  },
  {
   "cell_type": "markdown",
   "metadata": {},
   "source": [
    "Os testes foram realizados executando os métodos em estudo em situações cujo resultado é previamente conhecido, seja porque fornecido no documento de referência, porque calculado manualmente e/ou no `Octave`, ou porque evidente. Em todo caso, tal conhecimento \"a priori\" é aqui disposto acima de cada célula de código do teste."
   ]
  },
  {
   "cell_type": "markdown",
   "metadata": {},
   "source": [
    "> Observação: os testes vêm como métodos `teste_X` em virtude do não-compartilhamento (perigoso) de variáveis cujo nome é comumente empregado em demais métodos (e.g., $W$, $A$ etc.)."
   ]
  },
  {
   "cell_type": "markdown",
   "metadata": {},
   "source": [
    "### <font color=#C81A38>Teste dos métodos da Primeira Tarefa</font>"
   ]
  },
  {
   "cell_type": "markdown",
   "metadata": {},
   "source": [
    "__Teste de `cos_sin`__"
   ]
  },
  {
   "cell_type": "markdown",
   "metadata": {},
   "source": [
    "$W =\n",
    "\\begin{pmatrix}\n",
    "1 & 2 \\\\\n",
    "3 & 4\n",
    "\\end{pmatrix}$\n",
    "\n",
    "$i = 1, j = 2, k = 1 \\hspace{1cm} \\left( w_{1,1} = 1 < 3 = w_{2,1} \\right) \\hspace{1cm} \\tau = -\\frac{w_{1,1}}{w_{2,1}} = -\\frac{1}{3}\\\\\n",
    "sin = \\frac{1}{\\sqrt{1 + \\tau^{2}}} = \\frac{1}{\\sqrt{1 + (\\frac{1}{3})^{2}}} \\approx 0,9486833... \\hspace{2cm} cos = \\tau sin = - \\frac{0,9486833}{3} \\approx -0,31622777...$"
   ]
  },
  {
   "cell_type": "code",
   "execution_count": null,
   "metadata": {},
   "outputs": [],
   "source": [
    "def teste_cos_sin():\n",
    "    W = np.array([[1.0,2.0], \n",
    "                  [3.0,4.0]])\n",
    "    c, s = cos_sin(W, 1, 2, 1)\n",
    "    print(\"cos =\",c)\n",
    "    print(\"sin =\",s)\n",
    "teste_cos_sin()"
   ]
  },
  {
   "cell_type": "markdown",
   "metadata": {},
   "source": [
    "__Teste de `rot_Givens`__"
   ]
  },
  {
   "cell_type": "markdown",
   "metadata": {},
   "source": [
    "Exemplo da página 2 do documento de referência.<br>\n",
    "$Q(3,4,\\theta) \\cdot W = Q(3,4,\\theta) \\cdot\n",
    "\\begin{pmatrix}\n",
    "2 & 1 & 1 & -1 & 1 \\\\\n",
    "0 & 3 & 0 & 1 & 2 \\\\\n",
    "0 & 0 & 2 & 2 & -1 \\\\\n",
    "0 & 0 & -1 & 1 & 2 \\\\\n",
    "0 & 0 & 0 & 3 & 1\n",
    "\\end{pmatrix} = \n",
    "\\begin{pmatrix}\n",
    "2 & 1 & 1 & -1 & 1 \\\\\n",
    "0 & 3 & 0 & 1 & 2 \\\\\n",
    "0 & 0 & \\frac{5}{\\sqrt{5}} & \\frac{3}{\\sqrt{5}} & -\\frac{4}{\\sqrt{5}} \\\\\n",
    "0 & 0 & 0 & \\frac{4}{\\sqrt{5}} & \\frac{3}{\\sqrt{5}} \\\\\n",
    "0 & 0 & 0 & 3 & 1\n",
    "\\end{pmatrix} \\approx\n",
    "\\begin{pmatrix}\n",
    "2 & 1 & 1 & -1 & 1 \\\\\n",
    "0 & 3 & 0 & 1 & 2 \\\\\n",
    "0 & 0 & 2,23606798 & 1,34164079 & -1,78885438 \\\\\n",
    "0 & 0 & 0 & 1,78885438 & 1,34164079 \\\\\n",
    "0 & 0 & 0 & 3 & 1\n",
    "\\end{pmatrix}$"
   ]
  },
  {
   "cell_type": "code",
   "execution_count": 82,
   "metadata": {},
   "outputs": [
    {
     "name": "stdout",
     "output_type": "stream",
     "text": [
      "[[ 2.          1.          1.         -1.          1.        ]\n",
      " [ 0.          3.          0.          1.          2.        ]\n",
      " [ 0.          0.          2.23606798  1.34164079 -1.78885438]\n",
      " [ 0.          0.          0.          1.78885438  1.34164079]\n",
      " [ 0.          0.          0.          3.          1.        ]]\n"
     ]
    }
   ],
   "source": [
    "def teste_rot_Givens():\n",
    "    A = np.array([[2.0, 1.0, 1.0,-1.0, 1.0],\n",
    "                  [0.0, 3.0, 0.0, 1.0, 2.0],\n",
    "                  [0.0, 0.0, 2.0, 2.0,-1.0],\n",
    "                  [0.0, 0.0,-1.0, 1.0, 2.0],\n",
    "                  [0.0, 0.0, 0.0, 3.0, 1.0]])\n",
    "\n",
    "    cos, sin = cos_sin(A, 3, 4, 3)\n",
    "    rot_Givens(A, 5, 5, 3, 4, cos, sin)\n",
    "    print(A)\n",
    "teste_rot_Givens()"
   ]
  },
  {
   "cell_type": "markdown",
   "metadata": {},
   "source": [
    "__Teste de `solve`__"
   ]
  },
  {
   "cell_type": "markdown",
   "metadata": {},
   "source": [
    "(comentar o lance das últimas linhas)"
   ]
  },
  {
   "cell_type": "markdown",
   "metadata": {},
   "source": [
    "$W \\cdot x = b \\Rightarrow\n",
    "\\begin{pmatrix}\n",
    "1 & 2 \\\\\n",
    "3 & 4 \\\\\n",
    "5 & 6\n",
    "\\end{pmatrix}\n",
    "\\cdot\n",
    "\\begin{pmatrix}\n",
    "x_{1} \\\\\n",
    "x_{2}\n",
    "\\end{pmatrix}\n",
    "=\n",
    "\\begin{pmatrix}\n",
    "1 \\\\\n",
    "1 \\\\\n",
    "1\n",
    "\\end{pmatrix} \\Rightarrow\n",
    "x = \n",
    "\\begin{pmatrix}\n",
    "-1 \\\\\n",
    "1\n",
    "\\end{pmatrix}\n",
    "$"
   ]
  },
  {
   "cell_type": "code",
   "execution_count": null,
   "metadata": {},
   "outputs": [],
   "source": [
    "def teste_solve():\n",
    "    W = np.array([[1.0, 2.0], [3.0, 4.0], [5.0, 6.0]])\n",
    "    b = np.array([[1.0], [1.0], [1.0]])\n",
    "\n",
    "    solve(W, b, 3, 2)\n",
    "    print(\"x =\\n\",b[0:2,:])\n",
    "teste_solve()"
   ]
  },
  {
   "cell_type": "markdown",
   "metadata": {},
   "source": [
    "__Teste de `solve_multi`__"
   ]
  },
  {
   "cell_type": "markdown",
   "metadata": {},
   "source": [
    "$W \\cdot x = A \\Rightarrow\n",
    "\\begin{pmatrix}\n",
    "1 & 2 \\\\\n",
    "2 & 1\n",
    "\\end{pmatrix}\n",
    "\\cdot\n",
    "\\begin{pmatrix}\n",
    "x_{1,1} & x_{1,2} & x_{1,3} \\\\\n",
    "x_{2,1} & x_{2,2} & x_{2,3}\n",
    "\\end{pmatrix}\n",
    "=\n",
    "\\begin{pmatrix}\n",
    "1 & 2 & 3 \\\\\n",
    "4 & 5 & 6\n",
    "\\end{pmatrix} \\Rightarrow\n",
    "x = \n",
    "\\begin{pmatrix}\n",
    "\\frac{7}{3} & \\frac{8}{3} & 3 \\\\\n",
    "-\\frac{2}{3} & -\\frac{1}{3} & 0\n",
    "\\end{pmatrix} \\approx\n",
    "\\begin{pmatrix}\n",
    "2,33333331 & 2,66666664 & 3 \\\\\n",
    "-0,66666666 & -0,33333333 & 0\n",
    "\\end{pmatrix} \n",
    "$"
   ]
  },
  {
   "cell_type": "code",
   "execution_count": 95,
   "metadata": {},
   "outputs": [
    {
     "name": "stdout",
     "output_type": "stream",
     "text": [
      "x =\n",
      " [[ 2.33333333  2.66666667  3.        ]\n",
      " [-0.66666667 -0.33333333  0.        ]]\n"
     ]
    }
   ],
   "source": [
    "def teste_solve_multi():\n",
    "    W = np.array([[1.0, 2.0], [2.0, 1.0]])\n",
    "    A = np.array([[1.0,2.0,3.0],[4.0,5.0,6.0]])\n",
    "\n",
    "    solve_multi(W, A, 2, 3, 2)\n",
    "    print(\"x =\\n\",A)\n",
    "teste_solve_multi()"
   ]
  },
  {
   "cell_type": "markdown",
   "metadata": {},
   "source": [
    "### <font color=#C81A38>Teste dos métodos da Segunda Tarefa</font>"
   ]
  },
  {
   "cell_type": "markdown",
   "metadata": {},
   "source": [
    "__Teste de `erro`__"
   ]
  },
  {
   "cell_type": "markdown",
   "metadata": {},
   "source": [
    "Exemplo da página 6 do documento de referência (decomposição exata).<br>\n",
    "$E = \\| A - WH  \\|^2 = 0$, para <br><br>\n",
    "$A =\n",
    "\\begin{pmatrix}\n",
    "\\frac{3}{10} & \\frac{3}{5} & 0 \\\\\n",
    "\\frac{1}{2} & 0 & 1 \\\\\n",
    "\\frac{4}{10} & \\frac{4}{5} & 0\n",
    "\\end{pmatrix}, \\quad W =\n",
    "\\begin{pmatrix}\n",
    "\\frac{3}{5} & 0 \\\\\n",
    "0 & 1 \\\\\n",
    "\\frac{4}{5} & 0\n",
    "\\end{pmatrix}, \\quad H =\n",
    "\\begin{pmatrix}\n",
    "\\frac{1}{2} & 1 & 0 \\\\\n",
    "\\frac{1}{2} & 0 & 1\n",
    "\\end{pmatrix}$"
   ]
  },
  {
   "cell_type": "code",
   "execution_count": null,
   "metadata": {},
   "outputs": [],
   "source": [
    "def teste_erro():\n",
    "    A = np.array([[0.3,0.6,0.0],[0.5,0.0,1.0],[0.4,0.8,0.0]])\n",
    "    W = np.array([[0.6,0.0],[0.0,1.0],[0.8,0.0]])\n",
    "    H = np.array([[0.5,1.0,0.0],[0.5,0.0,1.0]])\n",
    "    E = erro(A,W,H,3,3)\n",
    "    print(\"E =\", E)\n",
    "teste_erro()"
   ]
  },
  {
   "cell_type": "markdown",
   "metadata": {},
   "source": [
    "__Teste de `norm`__"
   ]
  },
  {
   "cell_type": "markdown",
   "metadata": {},
   "source": [
    "Pela definição de normalização, <br>\n",
    "$normalização \\left[ \\begin{pmatrix}\n",
    "1 & 2 & 3 \\\\\n",
    "4 & 5 & 6 \\\\\n",
    "7 & 8 & 9\n",
    "\\end{pmatrix} \\right] = \n",
    "\\begin{pmatrix}\n",
    "\\frac{1}{\\sqrt{66}} & \\frac{2}{\\sqrt{93}} & \\frac{3}{\\sqrt{126}} \\\\\n",
    "\\frac{4}{\\sqrt{66}} & \\frac{5}{\\sqrt{93}} & \\frac{6}{\\sqrt{126}} \\\\\n",
    "\\frac{7}{\\sqrt{66}} & \\frac{8}{\\sqrt{93}} & \\frac{9}{\\sqrt{126}}\n",
    "\\end{pmatrix} \\approx\n",
    "\\begin{pmatrix}\n",
    "0,12309149 & 0,20739034 & 0,26726124 \\\\\n",
    "0,49236596 & 0,51847585 & 0,53452248 \\\\\n",
    "0,86164043 & 0,82956136 & 0,80178372\n",
    "\\end{pmatrix}$"
   ]
  },
  {
   "cell_type": "code",
   "execution_count": null,
   "metadata": {},
   "outputs": [],
   "source": [
    "def teste_norm():\n",
    "    W = np.array([[1.0,2.0,3.0],[4.0,5.0,6.0],[7.0,8.0,9.0]])\n",
    "    A = norm(W,3,3)\n",
    "    print(\"norm(W) =\\n\",A)\n",
    "teste_norm()"
   ]
  },
  {
   "cell_type": "markdown",
   "metadata": {},
   "source": [
    "__Teste de `set_matrix`__"
   ]
  },
  {
   "cell_type": "markdown",
   "metadata": {},
   "source": [
    "Pela definição deste tipo de matriz (página 5 do documento de referência),<br><br>\n",
    "$redefinição\\left(2,4\\right) \\left[ \\begin{pmatrix}\n",
    "-1 & 2 & -3 & 4 \\\\\n",
    "5 & -6 & 7 & -8 \\\\\n",
    "9 & 10 & 11 & 12 \\\\\n",
    "13 & 14 & 15 & 16\n",
    "\\end{pmatrix} \\right] = \n",
    "\\begin{pmatrix}\n",
    "0 & 2 & 0 & 4 \\\\\n",
    "5 & 0 & 7 & 0\n",
    "\\end{pmatrix}\n",
    "$"
   ]
  },
  {
   "cell_type": "code",
   "execution_count": null,
   "metadata": {},
   "outputs": [],
   "source": [
    "def teste_set_matrix():\n",
    "    A = np.array([[-1.0,2.0,-3.0,4.0],[5.0,-6.0,7.0,-8.0],[9.0,10.0,11.0,12.0],[13.0,14.0,15.0,16.0]])\n",
    "    B = set_matrix(A,2,4)\n",
    "    print(\"B =\\n\",B)\n",
    "teste_set_matrix()"
   ]
  },
  {
   "cell_type": "markdown",
   "metadata": {},
   "source": [
    "__Teste de `NMF`__"
   ]
  },
  {
   "cell_type": "markdown",
   "metadata": {},
   "source": [
    "Exemplo da página 6 do documento de referência (decomposição exata).\n",
    "> Observação: Neste caso, em que $\\epsilon = 10^{-5}$, a resposta não é exata. Testes aqui omitidos foram feitos com precisão bem maior $\\left(\\epsilon = 10^{-40} \\right)$ e por meio destes obteve-se resultado exato indicado no documento. Isto comprova a eficiência do algoritmo.<br>\n",
    "Não é de interesse, porém, esse nível de precisão, uma vez que grande parte das matrizes com as quais `NMF` lidará sequer possuem decomposição exata. É por este motivo que o resultado apresentado (assim como todos os demais calculados por este método) tem $\\epsilon = 10^{-5}$."
   ]
  },
  {
   "cell_type": "markdown",
   "metadata": {},
   "source": [
    "$A = W \\cdot H \\Rightarrow\n",
    "\\begin{pmatrix}\n",
    "\\frac{3}{10} & \\frac{3}{5} & 0 \\\\\n",
    "\\frac{1}{2} & 0 & 1 \\\\\n",
    "\\frac{4}{10} & \\frac{4}{5} & 0\n",
    "\\end{pmatrix} =\n",
    "\\begin{pmatrix}\n",
    "\\frac{3}{5} & 0 \\\\\n",
    "0 & 1 \\\\\n",
    "\\frac{4}{5} & 0 \\\\\n",
    "\\end{pmatrix} \\cdot\n",
    "\\begin{pmatrix}\n",
    "\\frac{1}{2} & 1 & 0 \\\\\n",
    "\\frac{1}{2} & 0 & 1\n",
    "\\end{pmatrix} \\Rightarrow\n",
    "W =\n",
    "\\begin{pmatrix}\n",
    "0,6 & 0 \\\\\n",
    "0 & 1 \\\\\n",
    "0,8 & 0 \\\\\n",
    "\\end{pmatrix}, \\quad\n",
    "H =\n",
    "\\begin{pmatrix}\n",
    "0,5 & 1 & 0 \\\\\n",
    "0,5 & 0 & 1\n",
    "\\end{pmatrix}$"
   ]
  },
  {
   "cell_type": "code",
   "execution_count": 101,
   "metadata": {
    "scrolled": true
   },
   "outputs": [
    {
     "name": "stdout",
     "output_type": "stream",
     "text": [
      "W =\n",
      " [[6.00089264e-01 8.93438340e-05]\n",
      " [0.00000000e+00 9.99999601e-01]\n",
      " [8.00119019e-01 1.19125112e-04]]\n",
      "H =\n",
      " [[0.49955341 1.         0.        ]\n",
      " [0.5000002  0.         1.0000004 ]]\n"
     ]
    }
   ],
   "source": [
    "def teste_NMF():\n",
    "    A = np.array([[0.3,0.6,0.0],[0.5,0.0,1.0],[0.4,0.8,0.0]])\n",
    "    n = 3\n",
    "    m = 3\n",
    "    p = 2\n",
    "    W, H = NMF(A, n, m, p)\n",
    "    print(\"W =\\n\",W)\n",
    "    print(\"H =\\n\",H)\n",
    "teste_NMF()"
   ]
  }
 ],
 "metadata": {
  "kernelspec": {
   "display_name": "Python 3",
   "language": "python",
   "name": "python3"
  },
  "language_info": {
   "codemirror_mode": {
    "name": "ipython",
    "version": 3
   },
   "file_extension": ".py",
   "mimetype": "text/x-python",
   "name": "python",
   "nbconvert_exporter": "python",
   "pygments_lexer": "ipython3",
   "version": "3.7.8"
  }
 },
 "nbformat": 4,
 "nbformat_minor": 4
}
