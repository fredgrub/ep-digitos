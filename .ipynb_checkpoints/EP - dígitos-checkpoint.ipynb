{
 "cells": [
  {
   "cell_type": "markdown",
   "metadata": {},
   "source": [
    "# <font color=#531AC8>Fatoração de Matrizes para Sistemas de Classificação de Machine Learning</font>\n",
    "> __Trabalho para a disciplina CCM0218 (2020.2)__ <br>\n",
    "Fernando Valls Yoshida (11246714) e Lucas de Sousa Rosa (11296717)"
   ]
  },
  {
   "cell_type": "markdown",
   "metadata": {},
   "source": [
    "Para a realização deste trabalho, nos reunimos periodicamente para ler o material fornecido, acompanhando as passagens e discutindo os pseudo-códigos. Enquanto isso, foi elaborado este Jupyter Notebook, em que constam os códigos que escrevemos, as considerações sobre eles e o relatório das tarefas exigidas. Na ordem natural em que aparecem no texto fornecido, os temas abordados virão neste documento. Além deste documento, entregamos também arquivos `.py` com uma versão executável dos métodos aqui apresentados, de forma mais amistosa à checagem de seu funcionamento e/ou consulta do código.<br>\n",
    "<br>\n",
    "O presente documento divide-se em 4 seções principais: __Primeira Tarefa__, que conta com explicações de posições adotadas para a escrita dos métodos, estes que também encontram-se na seção, e os testes sugeridos; __Segunda tarefa__, idem; __Tarefa Principal__, em que consta não somente os códigos concernentes a esta seção, mas também a visualização e discussão de alguns dados e a apresentação de gráficos que articulam e refletem a respeito dos resultados obtidos; e o __Apêndice__, que conta com a proposição de testes de checagem de funcionamento para cada um dos testes, além de resultados de cálculos feitos a partir de `Octave`, com a mesma finalidade de checagem."
   ]
  },
  {
   "cell_type": "markdown",
   "metadata": {},
   "source": [
    "__Seção para importação das bibliotecas__"
   ]
  },
  {
   "cell_type": "code",
   "execution_count": 3,
   "metadata": {},
   "outputs": [],
   "source": [
    "import numpy as np\n",
    "import math\n",
    "import matplotlib.pyplot as plt\n",
    "import matplotlib\n",
    "import time\n",
    "from datetime import datetime\n",
    "import re"
   ]
  },
  {
   "cell_type": "markdown",
   "metadata": {},
   "source": [
    "## <font color=#C8531A>Primeira tarefa</font>"
   ]
  },
  {
   "cell_type": "markdown",
   "metadata": {},
   "source": [
    "> Observação: em Álgebra Linear, é natural contar as posições de matrizes começando em 1, mas Numpy o faz começando em 0. Em face disso, aqui optou-se por manter a contagem da Álgebra sempre que possível. Em caso contrário, são feitas intervenções diretas no sistema de contagem, ou como ajuste geral (fazendo, e.g., $i = i - 1$ no início de um trecho de código) ou como ajuste de indexação no uso de um elemento da matriz (e.g., $W[i - 1, j - 1]$ para fazer $W_{i,j}$). Sempre que conveniente, tais medidas são apontadas no corpo do código."
   ]
  },
  {
   "cell_type": "markdown",
   "metadata": {},
   "source": [
    "A primeira tarefa trata da __resolução de sistemas lineares através da Fatoração QR__, em caso de sistemas sobredeterminados, individual (`solve`) e simultaneamente (`solve_multi`). Para ambos os casos, faz-se necessário implementar uma rotação de Givens $Q(i,j,\\theta)$ (`rot_Givens`) que, por sua vez, depende de uma implementação de `cos_sin`, definido tal como no documento de referência.<br>\n",
    "Estes quatro métodos encontram-se abaixo. As verificações de funcionamento de todos os métodos estão no __Apêndice__ deste documento."
   ]
  },
  {
   "cell_type": "markdown",
   "metadata": {},
   "source": [
    "__Determina os valores de cos(θ) e sin(θ), conforme (3) e (4)__"
   ]
  },
  {
   "cell_type": "code",
   "execution_count": 4,
   "metadata": {},
   "outputs": [],
   "source": [
    "def cos_sin(W, i, j, k):\n",
    "    # ajuste de contagem\n",
    "    i = i - 1\n",
    "    j = j - 1\n",
    "    k = k - 1\n",
    "    \n",
    "    if abs(W[i,k]) > abs(W[j,k]):\n",
    "        t = -W[j,k]/W[i,k]\n",
    "        c = 1/math.sqrt(1 + t**2)\n",
    "        s = c*t\n",
    "    else:\n",
    "        t = -W[i, k]/W[j, k]\n",
    "        s = 1/math.sqrt(1 + t**2)\n",
    "        c = s*t    \n",
    "    return c, s"
   ]
  },
  {
   "cell_type": "markdown",
   "metadata": {},
   "source": [
    "__Rotação de Givens Q(i, j, θ) a ser aplicada em $W_{n \\times m}$__"
   ]
  },
  {
   "cell_type": "code",
   "execution_count": 5,
   "metadata": {},
   "outputs": [],
   "source": [
    "def rot_Givens(W, n, m, i, j, c, s):\n",
    "    # ajuste de contagem\n",
    "    i = i - 1\n",
    "    j = j - 1\n",
    "\n",
    "    W[i,0:m], W[j,0:m] = c*W[i,0:m] - s*W[j,0:m], s*W[i,0:m] + c*W[j,0:m]"
   ]
  },
  {
   "cell_type": "markdown",
   "metadata": {},
   "source": [
    "> Observação: Para `solve` e `solve_multi` há a construção de uma matriz resposta, que poderia ser retornada por cada um destes métodos. Porém, em se tratando tipicamente de matrizes de dimensões elevadas, optou-se neste projeto por sobrescrever estes valores resultado na matriz da direita (a matriz $b$, em um sistema $W \\cdot x = b$). Para isto, faz-se necessário mostrar que:<br>\n",
    "(i) os valores para a definição de um elemento em $x$ não dependem de elementos anteriores em $b$ (que, sobrescritos, estariam perdidos) e<br>\n",
    "(ii) a definição de $x_{j}$ não pode depender de valores de $x_{i}$, se, na ordem em que se avança o cálculo, j precede i (i.e., não se pode usar um elemento ainda não calculado).<br>\n",
    "<br>\n",
    ">No caso de `solve`, nota-se que, para<br>\n",
    "$x_{k} = \\left( b_{k} - \\sum_{j=k+1}^{m}w_{k,j}x_{j} \\right)/w_{k,k}$<br>\n",
    "o valor de $b_{k}$ é usado uma única vez, e somente para a definição de $x_{k}$. Ainda, para a definição deste, usa-se $x_{j}$, com $m \\leq j \\leq k+1$ (e $k$ progride de $m$ a 1, logo estes são valores anteriores a $k$). É por este motivo, na linha do que inicialmente argumentado, que se pode sobrescrever $x$ em $b$.<br>\n",
    "Analogamente, para `solve_multi` (um sistema $W \\cdot H = A$), em que há<br>\n",
    "$h_{k,j} = \\left( a_{k,j} - \\sum_{i=k+1}^{p}w_{k,i}h_{i,j} \\right)/w_{k,k}$<br>\n",
    "o valor $a_{k,j}$ é usado somente para a definição de $h_{k,j}$, tendo ainda que os $h_{i,j}$ usados têm $k+1 \\leq i \\leq p$ (e $k$ progride de $p$ a 1, logo estes valores de $i$ correspondem aos termos $k$ anteriores, já calculados) e $j$ é o mesmo do elemento calculado no momento ($h_{k,j}$). De maneira análoga, portanto, justifica-se a sobrescrita.<br>\n",
    "<br>\n",
    "Cabe ainda considerar que não necessariamente a matriz resultado e a matriz direita possuem as mesmas dimensões, motivo pelo qual, em um sistema genérico $W \\cdot x = b$, a matriz $b$ sobrescrita possui os valores de $x$ somente nas posições em que se define $x$ e o demais valores não são de interesse. Esta consideração se manifesta doravante na seleção de trechos de $b$ para definir $x$ (e.g., se $x_{3 \\times 1}$ se define a partir de $b_{5 \\times 1}$, representa-se, no corpo do código, $x$ como `b[:4,:]`."
   ]
  },
  {
   "cell_type": "markdown",
   "metadata": {},
   "source": [
    "__Resolução de sistemas sobredeterminados__"
   ]
  },
  {
   "cell_type": "code",
   "execution_count": 6,
   "metadata": {},
   "outputs": [],
   "source": [
    "def solve(W, b, n, m):\n",
    "    eps = 10e-10       # zero\n",
    "    for k in range(1, m + 1):\n",
    "        for j in range(n, k, -1):\n",
    "            i = j - 1\n",
    "            if abs(W[j - 1, k - 1]) > eps:\n",
    "                cos, sin = cos_sin(W, i, j, k)\n",
    "                rot_Givens(W, n, m, i, j, cos, sin)\n",
    "                rot_Givens(b, n, 1, i, j, cos, sin)\n",
    "    \n",
    "    for k in range(m, 0, -1):\n",
    "        soma = 0\n",
    "        for j in range(k + 1, m + 1):\n",
    "            soma += W[k - 1, j - 1]*b[j - 1, 0]\n",
    "        b[k - 1, 0] = (b[k - 1, 0] - soma)/W[k - 1, k - 1]"
   ]
  },
  {
   "cell_type": "markdown",
   "metadata": {},
   "source": [
    "__Vários sistemas simultâneos__"
   ]
  },
  {
   "cell_type": "code",
   "execution_count": 7,
   "metadata": {},
   "outputs": [],
   "source": [
    "def solve_multi(W, A, n, m, p):\n",
    "    eps = 10e-10       # zero\n",
    "    for k in range(1, p + 1):\n",
    "        for j in range(n, k, -1):\n",
    "            i = j - 1\n",
    "            if abs(W[j - 1, k - 1]) > eps:\n",
    "                cos, sin = cos_sin(W, i, j, k)\n",
    "                rot_Givens(W, n, p, i, j, cos, sin)\n",
    "                rot_Givens(A, n, m, i, j, cos, sin)\n",
    "    \n",
    "    for k in range(p, 0, -1):\n",
    "        for j in range(1, m + 1):\n",
    "            soma = 0\n",
    "            for i in range(k+1,p+1):\n",
    "                soma += W[k-1,i-1]*A[i-1,j-1]\n",
    "            A[k-1,j-1] = (A[k-1,j-1] - soma)/W[k-1,k-1]"
   ]
  },
  {
   "cell_type": "markdown",
   "metadata": {},
   "source": [
    "## Testes sugeridos"
   ]
  },
  {
   "cell_type": "markdown",
   "metadata": {},
   "source": [
    "Dispõem-se abaixo os métodos associados à resolução de cada um dos testes sugeridos, que, por um lado, montam as matrizes-teste e, por outro, solucionam o sistema com os métodos já construídos na __Primeira Tarefa__. Para cada um dos testes, fez-se a devida verificação dos resultados com o `Octave` e estes dados encontram-se no __Apêndice__ deste documento."
   ]
  },
  {
   "cell_type": "code",
   "execution_count": 8,
   "metadata": {
    "collapsed": true
   },
   "outputs": [
    {
     "name": "stdout",
     "output_type": "stream",
     "text": [
      "[[0.49230769]\n",
      " [0.01538462]\n",
      " [0.47692308]\n",
      " [0.03076923]\n",
      " [0.46153846]\n",
      " [0.04615385]\n",
      " [0.44615385]\n",
      " [0.06153846]\n",
      " [0.43076923]\n",
      " [0.07692308]\n",
      " [0.41538462]\n",
      " [0.09230769]\n",
      " [0.4       ]\n",
      " [0.10769231]\n",
      " [0.38461538]\n",
      " [0.12307692]\n",
      " [0.36923077]\n",
      " [0.13846154]\n",
      " [0.35384615]\n",
      " [0.15384615]\n",
      " [0.33846154]\n",
      " [0.16923077]\n",
      " [0.32307692]\n",
      " [0.18461538]\n",
      " [0.30769231]\n",
      " [0.2       ]\n",
      " [0.29230769]\n",
      " [0.21538462]\n",
      " [0.27692308]\n",
      " [0.23076923]\n",
      " [0.26153846]\n",
      " [0.24615385]\n",
      " [0.24615385]\n",
      " [0.26153846]\n",
      " [0.23076923]\n",
      " [0.27692308]\n",
      " [0.21538462]\n",
      " [0.29230769]\n",
      " [0.2       ]\n",
      " [0.30769231]\n",
      " [0.18461538]\n",
      " [0.32307692]\n",
      " [0.16923077]\n",
      " [0.33846154]\n",
      " [0.15384615]\n",
      " [0.35384615]\n",
      " [0.13846154]\n",
      " [0.36923077]\n",
      " [0.12307692]\n",
      " [0.38461538]\n",
      " [0.10769231]\n",
      " [0.4       ]\n",
      " [0.09230769]\n",
      " [0.41538462]\n",
      " [0.07692308]\n",
      " [0.43076923]\n",
      " [0.06153846]\n",
      " [0.44615385]\n",
      " [0.04615385]\n",
      " [0.46153846]\n",
      " [0.03076923]\n",
      " [0.47692308]\n",
      " [0.01538462]\n",
      " [0.49230769]]\n"
     ]
    }
   ],
   "source": [
    "def teste_a():\n",
    "    n = 64\n",
    "    m = 64\n",
    "    W = np.zeros((n,m))\n",
    "    b = np.zeros((n,1))\n",
    "    for i in range(1, n+1):\n",
    "        for j in range(1, m+1):\n",
    "            if i == j:\n",
    "                W[i - 1, j - 1] = 2\n",
    "            elif abs(i - j) == 1:\n",
    "                W[i - 1, j - 1] = 1\n",
    "            elif abs(i - j) > 1:\n",
    "                W[i - 1, j - 1] = 0\n",
    "            b[i - 1, 0] = 1\n",
    "    solve(W,b,n,m)\n",
    "    print(b)\n",
    "teste_a()"
   ]
  },
  {
   "cell_type": "code",
   "execution_count": 9,
   "metadata": {
    "collapsed": true
   },
   "outputs": [
    {
     "name": "stdout",
     "output_type": "stream",
     "text": [
      "[[ 56.35780802]\n",
      " [-45.87484885]\n",
      " [-43.48902374]\n",
      " [-48.5765491 ]\n",
      " [-30.14020001]\n",
      " [ 89.81211894]\n",
      " [ 48.713648  ]\n",
      " [ 59.23924714]\n",
      " [ 11.44635697]\n",
      " [109.16273559]\n",
      " [-72.87275483]\n",
      " [-54.36289269]\n",
      " [-51.44441718]\n",
      " [-25.01481463]\n",
      " [ 98.57193882]\n",
      " [218.65885869]\n",
      " [298.40022751]]\n"
     ]
    }
   ],
   "source": [
    "def teste_b():\n",
    "    n = 20\n",
    "    m = 17\n",
    "    W = np.zeros((n,m))\n",
    "    b = np.zeros((n,1))\n",
    "    for i in range(1,n+1):\n",
    "        for j in range(1,m+1):\n",
    "            if abs(i - j) <= 4:\n",
    "                W[i - 1, j - 1] = 1.0/(i + j - 1)\n",
    "            elif abs(i - j) > 4:\n",
    "                W[i - 1, j - 1] = 0\n",
    "        b[i - 1, 0] = i\n",
    "    solve(W, b, n, m)\n",
    "    print(b[0:m,:])\n",
    "teste_b()"
   ]
  },
  {
   "cell_type": "code",
   "execution_count": 10,
   "metadata": {
    "collapsed": true
   },
   "outputs": [
    {
     "name": "stdout",
     "output_type": "stream",
     "text": [
      "[[ -0. -32. -64.]\n",
      " [  1.   1.   2.]\n",
      " [  1.  34.  68.]\n",
      " [ -0.   2.   4.]\n",
      " [ -0. -30. -60.]\n",
      " [  1.   3.   6.]\n",
      " [  1.  36.  72.]\n",
      " [ -0.   4.   8.]\n",
      " [ -0. -28. -56.]\n",
      " [  1.   5.  10.]\n",
      " [  1.  38.  76.]\n",
      " [ -0.   6.  12.]\n",
      " [ -0. -26. -52.]\n",
      " [  1.   7.  14.]\n",
      " [  1.  40.  80.]\n",
      " [ -0.   8.  16.]\n",
      " [ -0. -24. -48.]\n",
      " [  1.   9.  18.]\n",
      " [  1.  42.  84.]\n",
      " [ -0.  10.  20.]\n",
      " [ -0. -22. -44.]\n",
      " [  1.  11.  22.]\n",
      " [  1.  44.  88.]\n",
      " [ -0.  12.  24.]\n",
      " [ -0. -20. -40.]\n",
      " [  1.  13.  26.]\n",
      " [  1.  46.  92.]\n",
      " [ -0.  14.  28.]\n",
      " [ -0. -18. -36.]\n",
      " [  1.  15.  30.]\n",
      " [  1.  48.  96.]\n",
      " [ -0.  16.  32.]\n",
      " [ -0. -16. -32.]\n",
      " [  1.  17.  34.]\n",
      " [  1.  50. 100.]\n",
      " [ -0.  18.  36.]\n",
      " [ -0. -14. -28.]\n",
      " [  1.  19.  38.]\n",
      " [  1.  52. 104.]\n",
      " [ -0.  20.  40.]\n",
      " [ -0. -12. -24.]\n",
      " [  1.  21.  42.]\n",
      " [  1.  54. 108.]\n",
      " [ -0.  22.  44.]\n",
      " [ -0. -10. -20.]\n",
      " [  1.  23.  46.]\n",
      " [  1.  56. 112.]\n",
      " [ -0.  24.  48.]\n",
      " [ -0.  -8. -16.]\n",
      " [  1.  25.  50.]\n",
      " [  1.  58. 116.]\n",
      " [ -0.  26.  52.]\n",
      " [ -0.  -6. -12.]\n",
      " [  1.  27.  54.]\n",
      " [  1.  60. 120.]\n",
      " [ -0.  28.  56.]\n",
      " [ -0.  -4.  -8.]\n",
      " [  1.  29.  58.]\n",
      " [  1.  62. 124.]\n",
      " [ -0.  30.  60.]\n",
      " [ -0.  -2.  -4.]\n",
      " [  1.  31.  62.]\n",
      " [  1.  64. 128.]\n",
      " [ -0.  32.  64.]]\n"
     ]
    }
   ],
   "source": [
    "def teste_c():\n",
    "    n = 64\n",
    "    m = 3\n",
    "    p = 64\n",
    "    W = np.zeros((n,p))\n",
    "    A = np.zeros((n,m))\n",
    "    for i in range(1,n+1):\n",
    "        for j in range(1, p+1):\n",
    "            if abs(i - j) == 1:\n",
    "                W[i - 1, j - 1] = 1\n",
    "            elif abs(i - j) > 1:\n",
    "                W[i - 1, j - 1] = 0\n",
    "        A[i - 1, 0] = 1\n",
    "        A[i - 1, 1] = i\n",
    "        A[i - 1, 2] = 2*i\n",
    "    solve_multi(W,A,n,m,p)\n",
    "    print(A)\n",
    "teste_c()"
   ]
  },
  {
   "cell_type": "code",
   "execution_count": 11,
   "metadata": {
    "collapsed": true
   },
   "outputs": [
    {
     "name": "stdout",
     "output_type": "stream",
     "text": [
      "[[ 2.88155063e+00  5.63578080e+01  1.12715616e+02]\n",
      " [-1.83376253e+00 -4.58748489e+01 -9.17496977e+01]\n",
      " [-1.51398904e+00 -4.34890237e+01 -8.69780475e+01]\n",
      " [-1.52190762e+00 -4.85765491e+01 -9.71530982e+01]\n",
      " [-4.53794614e-01 -3.01402000e+01 -6.02804000e+01]\n",
      " [ 5.85669889e+00  8.98121189e+01  1.79624238e+02]\n",
      " [ 3.42192891e+00  4.87136480e+01  9.74272960e+01]\n",
      " [ 3.65656219e+00  5.92392471e+01  1.18478494e+02]\n",
      " [ 1.20368454e+00  1.14463570e+01  2.28927139e+01]\n",
      " [ 6.12534249e+00  1.09162736e+02  2.18325471e+02]\n",
      " [-2.47971396e+00 -7.28727548e+01 -1.45745510e+02]\n",
      " [-1.47793147e+00 -5.43628927e+01 -1.08725785e+02]\n",
      " [-1.20390258e+00 -5.14444172e+01 -1.02888834e+02]\n",
      " [ 1.28414690e-01 -2.50148146e+01 -5.00296293e+01]\n",
      " [ 6.50158900e+00  9.85719388e+01  1.97143878e+02]\n",
      " [ 1.14910560e+01  2.18658859e+02  4.37317717e+02]\n",
      " [ 1.45805258e+01  2.98400228e+02  5.96800455e+02]]\n"
     ]
    }
   ],
   "source": [
    "def teste_d():\n",
    "    n = 20\n",
    "    m = 3\n",
    "    p = 17\n",
    "    W = np.zeros((n,p))\n",
    "    A = np.zeros((n,m))\n",
    "    for i in range(1,n+1):\n",
    "        for j in range(1,p+1):\n",
    "            if abs(i - j) <= 4:\n",
    "                W[i - 1, j - 1] = 1.0/(i + j - 1)\n",
    "            elif abs(i - j) > 4:\n",
    "                W[i - 1, j - 1] = 0\n",
    "        A[i - 1, 0] = 1\n",
    "        A[i - 1, 1] = i\n",
    "        A[i - 1, 2] = 2*i\n",
    "    solve_multi(W,A,n,m,p)\n",
    "    print(A[0:p,:])\n",
    "teste_d()"
   ]
  },
  {
   "cell_type": "markdown",
   "metadata": {},
   "source": [
    "## <font color=#C8531A>Segunda tarefa</font>"
   ]
  },
  {
   "cell_type": "markdown",
   "metadata": {},
   "source": [
    "A segunda tarefa trata da __fatoração por matrizes não-negativas__, que está implementado em `NMF`, este que depende de alguns métodos auxiliares: para o cálculo do erro (`erro`), para a normalização das matrizes (`norm`) e ainda para recortar uma matriz (como os cálculos são feitos reescrevendo por cima da matriz inicial, nas vezes em que se faz necessário individulizar essa matriz, é preciso \"criá-la\" de novo) e ainda zerar os elementos negativos, no sentido em que abordado no documento (`set_matrix`)."
   ]
  },
  {
   "cell_type": "markdown",
   "metadata": {},
   "source": [
    "__Determina o erro quadrático $E = \\| A - WH  \\|^2 $__"
   ]
  },
  {
   "cell_type": "code",
   "execution_count": 12,
   "metadata": {},
   "outputs": [],
   "source": [
    "def erro(A,W,H,n,m):\n",
    "    E = 0\n",
    "    prod = W.dot(H)\n",
    "    for i in range(1,n+1):\n",
    "        for j in range(1,m+1):\n",
    "            E += (A[i-1,j-1] - prod[i-1,j-1])**2\n",
    "    return E"
   ]
  },
  {
   "cell_type": "markdown",
   "metadata": {},
   "source": [
    "__Normaliza $W_{n \\times p}$ de tal modo que $w_{i,j} = \\frac{w_{i,j}}{s_{j}}$, com $s_{j} = \\sqrt{\\sum_{i=1}^{n}w_{i,j}^2}$__"
   ]
  },
  {
   "cell_type": "code",
   "execution_count": 13,
   "metadata": {},
   "outputs": [],
   "source": [
    "def norm(W,n,p):\n",
    "    for j in range(1,p+1):\n",
    "        s = 0\n",
    "        for i in range(1,n+1):\n",
    "            s += (W[i-1,j-1])**2\n",
    "        s = math.sqrt(s)\n",
    "        W[0:n,j-1] = W[0:n,j-1]/s\n",
    "    return W"
   ]
  },
  {
   "cell_type": "markdown",
   "metadata": {},
   "source": [
    "__Define $B_{p \\times m}$ a partir de $A_{n \\times m}$. B é definido a partir da porção superior (p primeiras linhas e todas as m colunas) de A, sendo ainda que $b_{i,j} = a_{i,j}$, se e somente se $a_{i,j} \\geq 0$, do contrário $b_{i,j} = 0$__"
   ]
  },
  {
   "cell_type": "code",
   "execution_count": 14,
   "metadata": {},
   "outputs": [],
   "source": [
    "def set_matrix(A,p,m):\n",
    "    B = np.zeros((p,m))\n",
    "    for i in range(1,p+1):\n",
    "        for j in range(1,m+1):\n",
    "            if A[i-1,j-1] > 0:\n",
    "                B[i-1,j-1] = A[i-1,j-1]\n",
    "    return B"
   ]
  },
  {
   "cell_type": "markdown",
   "metadata": {},
   "source": [
    "__Fatoração por matrizes não-negativas__"
   ]
  },
  {
   "cell_type": "markdown",
   "metadata": {},
   "source": [
    "> Observação: De modo a calcular a diferença entre erros de iterações sucessivas, adotou-se uma estratégia de \"erros alternados\". Convencionou-se que em interações ímpares o erro é guardado na variável $e_{1}$, e em interações pares em $e_{2}$. Assim, trivialmente, a diferença de erros entre iterações sucessivas dá-se por $|e_{1} - e_{2}|$."
   ]
  },
  {
   "cell_type": "code",
   "execution_count": 15,
   "metadata": {},
   "outputs": [],
   "source": [
    "def NMF(A,n,m,p):\n",
    "    # parâmetros\n",
    "    eps = 10e-5\n",
    "    it_max = 100\n",
    "    # inicialização de variáveis de apoio\n",
    "    e1 = 0\n",
    "    e2 = 0\n",
    "    t = 0\n",
    "    # inicialização/setagem das matrizes de interesse\n",
    "    W = np.random.rand(n,p)\n",
    "    A_copia = np.copy(A)\n",
    "    At_copia = np.copy(np.transpose(A))\n",
    "    H = np.zeros((p,m))\n",
    "    \n",
    "    while(t < it_max):\n",
    "        if (t > 1 and abs(e1 - e2) < eps):\n",
    "            break\n",
    "    \n",
    "        A = np.copy(A_copia)              # recuperar A original\n",
    "        W = norm(W,n,p)                   # normalizar W\n",
    "        solve_multi(W, A, n, m, p)        # WH = A\n",
    "        H = set_matrix(A,p,m)             # H a partir de A\n",
    "\n",
    "        At = np.copy(At_copia)            # computar A^t\n",
    "        Ht = np.copy(np.transpose(H))     # computar H^t\n",
    "        solve_multi(Ht, At, m, n, p)      # (WH)^t = H^tW^t = A^t\n",
    "        Wt = set_matrix(At, p, n)         # W^t a partir de A^t\n",
    "        W = np.copy(np.transpose(Wt))     # computar W (a partir de W^t)\n",
    "        \n",
    "        if t % 2 != 0:                    # erro em iteração ímpar\n",
    "            e1 = erro(A_copia, W, H, n, m)\n",
    "        else:                             # erro em iteração par\n",
    "            e2 = erro(A_copia, W, H, n, m)\n",
    "        \n",
    "        t += 1\n",
    "    return W, H"
   ]
  },
  {
   "cell_type": "markdown",
   "metadata": {},
   "source": [
    "## <font color=#C8531A>Tarefa principal</font>"
   ]
  },
  {
   "cell_type": "markdown",
   "metadata": {},
   "source": [
    "A __Tarefa principal__ consiste em duas atividades principais: o preparo dos treinos $W_{d}$ que, a partir do banco de dados com uma série de exemplares de dígitos, representa um \"dígito platônico\", a ideia de um tal dígito que se abstrai da materialidade dos exemplos dados; e, finalmente, a proposição de um palpite para as imagens dadas, tentar identificar qual dígito cada imagem representa, a partir daquela que apresentar o menor erro em relação a um processamento dos $W_{d}$ via MMQ.<br>\n",
    "<br>\n",
    "Nesse sentido, são duas as variáveis de interesse: $n_{dig}$ e $p$, que representam, respectivamente, quantos dos dígitos do banco de dados serão usados para a construção de $W_{d}$, e quantas formas platônicas serão montadas. Inicialmente, o interesse residirá principalmente em avaliar como a variação desses parâmetros impacta na taxa de acerto dos palpites; depois, será feita uma análise qualitativa a respeito de cada um dos dígitos, seguida de uma confirmação quantitativa."
   ]
  },
  {
   "cell_type": "markdown",
   "metadata": {},
   "source": [
    "### <font color=#C81A38>Treinamentos dos dígitos $W_{d}$</font>"
   ]
  },
  {
   "cell_type": "markdown",
   "metadata": {},
   "source": [
    "__Cria um $W_{d}$ específico__"
   ]
  },
  {
   "cell_type": "code",
   "execution_count": 16,
   "metadata": {},
   "outputs": [],
   "source": [
    "def train_dig(digito, ndig_treino, p):\n",
    "    n = 784\n",
    "    A = np.loadtxt(\"dados_mnist/train_dig\" + str(digito) + \".txt\")\n",
    "    A = A[:,:ndig_treino]\n",
    "    m = ndig_treino\n",
    "    Wd, H = NMF(A,n,m,p)\n",
    "    return Wd"
   ]
  },
  {
   "cell_type": "markdown",
   "metadata": {},
   "source": [
    "__Cria todos os treinos $W_{d}$ para todos os $n_{dig}$ e $p$ propostos, salva-os em arquivos de texto, considerando o tempo gasto para cada treino__"
   ]
  },
  {
   "cell_type": "code",
   "execution_count": 15,
   "metadata": {},
   "outputs": [],
   "source": [
    "def train_all():\n",
    "    ndig_treino = [100,1000,4000]\n",
    "    ps = [5,10,15]\n",
    "\n",
    "    for ndig in ndig_treino:\n",
    "        for p in ps:\n",
    "            for digito in range(10):\n",
    "                start = time.time()\n",
    "                Wd = train_dig(digito, ndig, p)\n",
    "                elapsed_time_lc = (time.time() - start)\n",
    "                filename = \"dig_treino/W_\" + str(digito) + \"_\" + str(ndig) + \"_\" + str(p) + \".txt\" \n",
    "                with open(filename, \"w+\") as f:\n",
    "                    f.write(str(elapsed_time_lc) + \"\\n\")\n",
    "                    np.savetxt(f, Wd)\n",
    "train_all()"
   ]
  },
  {
   "cell_type": "markdown",
   "metadata": {},
   "source": [
    "### <font color=#C81A38>Tempos relativos à `train_all`</font>"
   ]
  },
  {
   "cell_type": "markdown",
   "metadata": {},
   "source": [
    "A execução de `train_all` gera todos os 90 treinos (todas as combinações de 3 tipos de $n_{dig}$ com os 3 tipos de $p$, para todos os 10 dígitos), em forma de um arquivo de texto. Para avaliar a performance do algoritmo como um todo, fez-se o método `time_train` que apresenta os tempos de execução (que já são contatos em `train_all`), suas médias e parâmetros de \"resposta\" da variação do tempo à variação de um desses parâmetros (matematicamente, é uma média da razão de razões). Apresenta-se a seguir este método, seguido depois de um comentário."
   ]
  },
  {
   "cell_type": "markdown",
   "metadata": {},
   "source": [
    "__Organiza e apresenta os tempos relativos à execução de `train_all`__"
   ]
  },
  {
   "cell_type": "code",
   "execution_count": 17,
   "metadata": {},
   "outputs": [
    {
     "name": "stdout",
     "output_type": "stream",
     "text": [
      "Tabela dos tempos\n",
      "**************************************************************************************************************\n",
      "ndig_p  |      0        1        2        3        4        5        6        7        8        9      média\n",
      "**************************************************************************************************************\n",
      "100_5   |    0m23s    0m24s    0m24s    0m24s    0m25s    0m24s    0m24s    0m25s    0m24s    0m25s    0m24s    \n",
      "\n",
      "100_10  |    0m53s    0m57s    0m56s    0m55s    0m56s    0m55s    0m54s    0m56s    0m54s    0m57s    0m55s    \n",
      "\n",
      "100_15  |    0m51s    0m47s    0m47s    0m48s    0m47s    0m47s    0m46s    0m49s    0m50s    0m49s    0m48s    \n",
      "\n",
      "1000_5  |    1m49s    1m50s    1m59s    1m50s    1m51s    1m51s    1m49s    1m51s    1m53s    1m50s    1m51s    \n",
      "\n",
      "1000_10 |    2m27s    2m20s    2m21s    2m19s    2m21s    2m23s    2m21s    2m21s    2m20s    2m21s    2m21s    \n",
      "\n",
      "1000_15 |    2m54s    2m51s    2m52s    2m52s    2m53s    2m52s    2m49s    2m52s    2m51s    2m55s    2m52s    \n",
      "\n",
      "4000_5  |    6m44s    6m43s    6m44s    6m45s    6m42s    6m44s    6m40s    6m40s    6m39s    6m40s    6m42s    \n",
      "\n",
      "4000_10 |    8m12s    8m11s    8m14s    8m14s    8m14s    8m15s    8m14s    8m19s    8m13s    8m16s    8m14s    \n",
      "\n",
      "4000_15 |    9m54s    9m48s    9m55s    9m52s    9m53s    9m55s    9m51s    9m54s    9m53s    10m10s   9m54s    \n",
      "\n",
      "Outras informações\n",
      "Tempo total: 5h41m16s\n",
      "Variação média de p: 1.481359967573453\n",
      "Variação média de ndig: 0.5144164368805536\n"
     ]
    }
   ],
   "source": [
    "def time_train():\n",
    "    T = np.zeros((9,11))\n",
    "    ndigs = [100,1000,4000]\n",
    "    ps = [5,10,15]\n",
    "    \n",
    "    # Recolher tempos\n",
    "    t = 0\n",
    "    soma = 0\n",
    "    total = 0\n",
    "    for ndig in ndigs:\n",
    "        for p in ps:\n",
    "            for dig in range(10):\n",
    "                with open(\"dig_treino/W_{}_{}_{}.txt\".format(dig,ndig,p)) as file:\n",
    "                    T[t,dig] = float(file.readline())\n",
    "                    soma += T[t, dig]\n",
    "            total += soma\n",
    "            T[t,10] = soma/10\n",
    "            soma = 0\n",
    "            t += 1\n",
    "    t += 1\n",
    "    \n",
    "    # Apresentar os tempos\n",
    "    print(\"Tabela dos tempos\")\n",
    "    print(\"\".ljust(110,\"*\"))\n",
    "    print(\"ndig_p  |      0        1        2        3        4        5        6        7        8        9      média\")\n",
    "    print(\"\".ljust(110,\"*\"))\n",
    "\n",
    "    for i in range(9):\n",
    "        print((\"{}_{}\".format(ndigs[i // 3],ps[i % 3])).ljust(8,\" \"),end = \"|    \")\n",
    "        for j in range(11):\n",
    "            mins = int((T[i,j] % 3600) // 60)\n",
    "            secs = int(T[i,j] % 60)                \n",
    "            print(\"{}m{}s\".format(mins,secs).ljust(9,\" \"), end = \"\")\n",
    "        print(\"\\n\")\n",
    "        \n",
    "    # Informações adicionais\n",
    "    print(\"Outras informações\")\n",
    "    horas = int(total // 3600)\n",
    "    mins = int((total % 3600) // 60)\n",
    "    secs = int(total % 60)                \n",
    "    print(\"Tempo total: {}h{}m{}s\".format(horas,mins,secs).ljust(9,\" \"))\n",
    "    \n",
    "    pvar = 0\n",
    "    for i in range(1,9,3):\n",
    "        pvar += ((T[i,10]/T[i - 1,10])/(0.5) + (T[i+1,10]/T[i,10])/(1.5) + (T[i+1,10]/T[i-1,10])/(3.0))/3\n",
    "    pvar = pvar/3\n",
    "    print(\"Variação média de p: {}\".format(pvar))\n",
    "    \n",
    "    nvar = 0\n",
    "    for i in range(3):\n",
    "        nvar += ((T[i+3,10]/T[i,10])/(10.0) + (T[i+6,10]/T[i+3,10])/(4.0) + (T[i+6,10]/T[i,10])/(40.0))/3\n",
    "    nvar = nvar/3\n",
    "    print(\"Variação média de ndig: {}\".format(nvar))\n",
    "    \n",
    "time_train()"
   ]
  },
  {
   "cell_type": "markdown",
   "metadata": {},
   "source": [
    "Uma primeira observação é a de que, como esperado, não há variação significativa entre dígitos para um mesmo tipo de caso (mesmos valores de $n_{dig}$ e $p$). Além disso, é relativamente satisfatório que nenhum dos treinamentos, individualmente, tome mais que 10 minutos, de modo que o tempo de execução de todos os treinos é grade, mas não absurdo.<br>\n",
    "<br>\n",
    "Interessantes também são os valores de variação média, parâmetro que se adotou para avaliar a \"resposta\" do tempo à variação de um dos parâmetros. Pode-se entendê-los como o seguinte: se este valor for maior que 1, significa que a variação do parâmetro provoca uma variação proporcionalmente maior de tempo, enquanto, em sendo menor que 1, a variação do parâmetro provoca uma variação proporcionalmente menor no tempo. Finalmente, buscando compreender esses resultados, pode-se sugerir que a variação em $p$ tem um impacto maior no tempo na medida em que modifica o tamanho das matrizes trabalhadas em `NMF`, o mais custoso de todos os métodos. Modificar o valor de $n_{dig}$, por outro lado, diz respeito ao quão \"informativa\" é a matriz platônica a partir da qual serão feitos os treinamentos, ou, mais diretamente, quantos são as imagens do bando de dados as quais se está olhando para treinar a máquina."
   ]
  },
  {
   "cell_type": "markdown",
   "metadata": {},
   "source": [
    "### <font color=#C81A38>Visualização dos dados</font>"
   ]
  },
  {
   "cell_type": "markdown",
   "metadata": {},
   "source": [
    "Objetivando enxergar os treinos, ter alguma intuição sobre o que está acontecendo com os palpites e poder elaborar hipóteses, alguns métodos foram elaborados para a visualização das matrizes. Outros métodos de visualização dos dados e geração de gráficos foram elaborados, mas devido à sua extensão e a sua menor relevância enquanto código para a futura discussão, optou-se por deixá-los no __Apêndice__ deste documento."
   ]
  },
  {
   "cell_type": "markdown",
   "metadata": {},
   "source": [
    "__Transforma uma coluna-imagem em uma matriz-imagem__"
   ]
  },
  {
   "cell_type": "code",
   "execution_count": 18,
   "metadata": {},
   "outputs": [],
   "source": [
    "def get_img(col):\n",
    "    img = np.zeros((28,28))\n",
    "    for t in range(1,785):\n",
    "        j = t // 28\n",
    "        i = t - 28*j\n",
    "        img[j - 1, i - 1] = col[t - 1, 0]\n",
    "    return img"
   ]
  },
  {
   "cell_type": "markdown",
   "metadata": {},
   "source": [
    "__Gera as imagens do treino__"
   ]
  },
  {
   "cell_type": "code",
   "execution_count": 19,
   "metadata": {},
   "outputs": [
    {
     "data": {
      "image/png": "[encoded data removed]",
      "text/plain": [
       "<Figure size 1440x720 with 10 Axes>"
      ]
     },
     "metadata": {
      "needs_background": "light"
     },
     "output_type": "display_data"
    }
   ],
   "source": [
    "def display(dig, ndig, p, rows, cols):\n",
    "    width=28\n",
    "    height=28\n",
    "    axes=[]\n",
    "    fig=plt.figure(figsize=(20, 10))\n",
    "    \n",
    "    with open(\"dig_treino/W_{}_{}_{}.txt\".format(dig,ndig,p)) as file:\n",
    "        time = file.readline()\n",
    "        Wd = np.loadtxt(file)\n",
    "\n",
    "    for a in range(rows*cols):\n",
    "        b = get_img(Wd[:, a: a + 1])\n",
    "        axes.append( fig.add_subplot(rows, cols, a+1) )\n",
    "        subplot_title=(\"Coluna \"+str(a))\n",
    "        axes[-1].set_title(subplot_title)\n",
    "        plt.axis('off')  \n",
    "        plt.imshow(b)\n",
    "    fig.tight_layout()\n",
    "    \n",
    "    filename = 'treinos_W_{}_{}_{}.png'.format(dig, ndig, p)\n",
    "    plt.savefig('figuras/{}'.format(filename), dpi=150)\n",
    "display(1,100,10,2,5)"
   ]
  },
  {
   "cell_type": "markdown",
   "metadata": {},
   "source": [
    "### <font color=#C81A38>Palpites e reconhecimento de dígitos</font>"
   ]
  },
  {
   "cell_type": "markdown",
   "metadata": {},
   "source": [
    "Aqui, entende-se por palpite a atribuição de valor que se dá a uma matriz, em momento de identificar qual é o dígito representado, valendo-se das formas platônicas dos treinos $W_{d}$. Para tanto, tem-se em funcionamento `read_all_digits`, que lê do arquivo de texto os $W_{d}$, e a classe `PPTO`, que é um palpite orientado a objeto, isto é, para cada palpite enfeixa-se as informações do palpite propriamente dito, como o número de acertos, de erros e onde e como esses erros foram cometidos. Esses dados aparentemente excedentes são coletados de modo a incorporar a discussão da seção seguinte."
   ]
  },
  {
   "cell_type": "markdown",
   "metadata": {},
   "source": [
    "__Abre todos os treinos a partir dos arquivos de texto__"
   ]
  },
  {
   "cell_type": "code",
   "execution_count": 23,
   "metadata": {},
   "outputs": [],
   "source": [
    "def read_all_digits(ndig_treino, p):\n",
    "    all_dig = []\n",
    "    for digito in range(10):\n",
    "        filename = 'dig_treino/W_{}_{}_{}.txt'.format(digito, ndig_treino, p)\n",
    "        with open(filename) as f:\n",
    "            time = f.readline()\n",
    "            Wd = np.loadtxt(f)\n",
    "            all_dig.append(Wd)\n",
    "    return all_dig"
   ]
  },
  {
   "cell_type": "markdown",
   "metadata": {},
   "source": [
    "__Classe de todos os palpites e gerenciamento dos respectivos relatórios__"
   ]
  },
  {
   "cell_type": "code",
   "execution_count": 24,
   "metadata": {},
   "outputs": [],
   "source": [
    "class PPTO:\n",
    "    def __init__(self):\n",
    "        # abrindo os arquivos\n",
    "        with open('dados_mnist/test_images.txt') as f:\n",
    "            self.A = np.loadtxt(f)\n",
    "        with open('dados_mnist/test_index.txt') as f:\n",
    "            self.asw = np.loadtxt(f, dtype=np.int8)\n",
    "        \n",
    "        # setando variáveis\n",
    "        self.n, self.m = self.A.shape\n",
    "        self.p = 0\n",
    "        \n",
    "        # vetores auxiliares\n",
    "        self.D = np.zeros(self.m, dtype=np.int8)\n",
    "        self.E = np.zeros(self.m)\n",
    "        \n",
    "        # todos os erros\n",
    "        self.all_E = np.zeros((10, self.m))\n",
    "        self.onde_errou = []\n",
    "\n",
    "        # setando o contador\n",
    "        self.count_dig = {}\n",
    "        for digito in self.asw:\n",
    "            sdigito = str(digito)\n",
    "            if sdigito not in self.count_dig:\n",
    "                self.count_dig[sdigito] = 1\n",
    "            else:\n",
    "                self.count_dig[sdigito] += 1\n",
    "\n",
    "    def MMQS(self, Wds):\n",
    "        self.n, self.p = Wds[0].shape # todos os 9 Wd's têm a mesma forma (shape)\n",
    "        num_dig = len(Wds)\n",
    "        for d in range(num_dig):\n",
    "            # setando as variáveis\n",
    "            Wd = Wds[d].copy()\n",
    "            cpA = self.A.copy()\n",
    "            \n",
    "            # resolvendo o sistema simultâneo\n",
    "            solve_multi(Wd, cpA, self.n, self.m, self.p)\n",
    "            WH = np.dot(Wds[d], cpA[:self.p,:])\n",
    "            C = np.subtract(self.A, WH)\n",
    "            \n",
    "            # calculando o erro de cada coluna\n",
    "            for col in range(self.m):\n",
    "                err = 0.0\n",
    "                for row in range(self.n):\n",
    "                    err += (C[row, col])**2\n",
    "                err = math.sqrt(err)\n",
    "                \n",
    "                # coletando todos os erros\n",
    "                self.all_E[d, col] = err\n",
    "                \n",
    "                # gerando os palpites\n",
    "                if d == 0:\n",
    "                    self.E[col] = err\n",
    "                elif err < self.E[col]:\n",
    "                    self.E[col] = err\n",
    "                    self.D[col] = d\n",
    "    \n",
    "    def generate_report(self, ndig_treino):\n",
    "        # inicializando o contador de acertos\n",
    "        correct = 0\n",
    "        correct_dig = {}\n",
    "        \n",
    "        for num in range(10):\n",
    "            snum = str(num)\n",
    "            correct_dig[snum] = 0\n",
    "        \n",
    "        # contando os acertos\n",
    "        for row in range(self.m):\n",
    "            if self.D[row] == self.asw[row]:\n",
    "                correct += 1\n",
    "                correct_dig[str(self.D[row])] += 1\n",
    "            else:\n",
    "                self.onde_errou.append(row)\n",
    "            \n",
    "        # gerando o relatório\n",
    "        with open('reports/report_{}_{}.txt'.format(ndig_treino, self.p), 'w+') as f:\n",
    "            f.write('Relatório do caso p = {} e ndig_treino = {}\\n\\n'.format(self.p, ndig_treino))\n",
    "            f.write('Percentual total de acertos: {:.2f}%\\n\\n'.format((correct/self.m)*100))\n",
    "            \n",
    "            for dig, right in correct_dig.items():\n",
    "                f.write('Digito ' + dig + '\\n')\n",
    "                total = self.count_dig[dig]\n",
    "                f.write('Acertos: {}/{}\\n'.format(right, total))\n",
    "                f.write('Percentual de acertos: {:.2f}%\\n\\n'.format((right/total)*100))\n",
    "        \n",
    "        with open('erros/erros_{}_{}.txt'.format(ndig_treino, self.p), 'w+') as f:\n",
    "            np.savetxt(f, self.all_E)\n",
    "        with open('erros/onde_errou_{}_{}.txt'.format(ndig_treino, self.p), 'w+') as f:\n",
    "            for item in self.onde_errou:\n",
    "                f.write(str(item) + '\\n')"
   ]
  },
  {
   "cell_type": "markdown",
   "metadata": {},
   "source": [
    "__Gera todos os palpites e salva os relatórios de erros/acertos__"
   ]
  },
  {
   "cell_type": "code",
   "execution_count": 25,
   "metadata": {
    "collapsed": true
   },
   "outputs": [
    {
     "name": "stdout",
     "output_type": "stream",
     "text": [
      "Começo das classificações às 17:56:11\n",
      "\n",
      "Caso ndig_treino 100 com p 5\n",
      "\n",
      "Tempo gasto para o MMQ: 196.68193697929382\n",
      "\n",
      "Caso ndig_treino 100 com p 10\n",
      "\n",
      "Tempo gasto para o MMQ: 227.0889446735382\n",
      "\n",
      "Caso ndig_treino 100 com p 15\n",
      "\n",
      "Tempo gasto para o MMQ: 271.9457354545593\n",
      "\n",
      "Caso ndig_treino 1000 com p 5\n",
      "\n",
      "Tempo gasto para o MMQ: 188.39534187316895\n",
      "\n",
      "Caso ndig_treino 1000 com p 10\n",
      "\n",
      "Tempo gasto para o MMQ: 194.64591360092163\n",
      "\n",
      "Caso ndig_treino 1000 com p 15\n",
      "\n",
      "Tempo gasto para o MMQ: 235.28224682807922\n",
      "\n",
      "Caso ndig_treino 4000 com p 5\n",
      "\n",
      "Tempo gasto para o MMQ: 186.109925031662\n",
      "\n",
      "Caso ndig_treino 4000 com p 10\n",
      "\n",
      "Tempo gasto para o MMQ: 205.74936437606812\n",
      "\n",
      "Caso ndig_treino 4000 com p 15\n",
      "\n",
      "Tempo gasto para o MMQ: 251.07306480407715\n",
      "\n",
      "Classificações concluídas às 18:28:53\n"
     ]
    }
   ],
   "source": [
    "def palpite_all():\n",
    "    ndig_treinos = [100, 1000, 4000]\n",
    "    ps = [5, 10, 15]\n",
    "    pp = PPTO()\n",
    "\n",
    "    now = datetime.now()\n",
    "    current_time = now.strftime(\"%H:%M:%S\")\n",
    "    print(\"Começo das classificações às {}\\n\".format(current_time))\n",
    "\n",
    "    for ndig_treino in ndig_treinos:\n",
    "        for p in ps:\n",
    "            print('Caso ndig_treino {} com p {}\\n'.format(ndig_treino, p))\n",
    "            start = time.time()\n",
    "\n",
    "            Wds = read_all_digits(ndig_treino, p)\n",
    "            pp.MMQS(Wds)\n",
    "            \n",
    "            elapsed_time = (time.time() - start)\n",
    "            print('Tempo gasto para o MMQ: {}\\n'.format(elapsed_time))\n",
    "\n",
    "            pp.generate_report(ndig_treino)\n",
    "            # Resetando os valores\n",
    "            pp.D = np.zeros(pp.m, dtype=np.int8)\n",
    "            pp.E = np.zeros(pp.m)\n",
    "\n",
    "            pp.all_E = np.zeros((10, pp.m))\n",
    "            pp.onde_errou = []\n",
    "\n",
    "    now = datetime.now()\n",
    "    current_time = now.strftime(\"%H:%M:%S\")\n",
    "    print('Classificações concluídas às {}'.format(current_time))\n",
    "palpite_all()"
   ]
  },
  {
   "cell_type": "markdown",
   "metadata": {},
   "source": [
    "### <font color=#C81A38>Discussão qualitativa e quantitativa dos dados</font>"
   ]
  },
  {
   "cell_type": "markdown",
   "metadata": {},
   "source": [
    "Inicialmente, a primeira pergunta que vem da execução de `palpite_all` é: deu certo? E, notadamente, a maneira mais direta de respondê-la é avaliando as taxas de acerto a depender da variação dos parâmetros. Para tanto, como `PPTO` já dá toda a informação necessária para tal pergunta, constrói-se o seguinte gráfico."
   ]
  },
  {
   "cell_type": "markdown",
   "metadata": {},
   "source": [
    "<img src=\"figuras/acerto_ndig_p.png\" style=\"width:50%\">"
   ]
  },
  {
   "cell_type": "markdown",
   "metadata": {},
   "source": [
    "Algumas coisas saltam em um primeiro momento. De um modo geral, o desempenho é bem satisfatório, com todos os casos proporcionando pelo menos 85% de acerto. Outra coisa interessante é como os dados vão de acordo com o que esperado para a variação dos parâmetros: conforme aumentam $n_{dig}$ e $p$ também, de modo geral, aumentam as taxas de acerto. Isso porque não necessariamente isso se daria, posta a natureza do `NMF` (que inclui certas flutuações), que pode gerar certas imprecisões.<br>\n",
    "De qualquer modo, apesar destes resultados, seria ainda interessante investigar como a taxa de acertos varia a depender do dígito. Acrescentando mais informações, a representação gráfica começa a ficar muito saturada e quiçá confusa, motivo pelo qual optou-se por representar uma passagem de casos de cada vez, entendendo por caso uma dada configuração dos parâmetros $n_{dig}$ e $p$. Simplesmente pelo motivo de que, nessa rodada, é a passagem com o maior degrau, a maior diferença relativa, será analisada a passagem do caso 100_10 ao 1000_10 (diferença de 2,63%)."
   ]
  },
  {
   "cell_type": "markdown",
   "metadata": {},
   "source": [
    "<img src=\"figuras/acertos-100_10-1000_10.png\" style=\"width:50%\">"
   ]
  },
  {
   "cell_type": "markdown",
   "metadata": {},
   "source": [
    "Agora, o resultado da análise materializada neste gráfico é mais interessante: o que poderia explicar essa distribuição? Porque 0 e 1 possuem a taxa tão maior? O que poderia explicar a variação de acertos do dígito 8?<br>\n",
    "A hipótese que se propõe passa pela identidade de um dígito e sua resolução em um determinado caso, isto é, quão bem ele está caracterizado em $W_{d}$ e, consequentemente, quão bem será a aferência dele nos palpites que em este for o dígito correto. E uma questão importante é que, devido à metodologia aqui empregada, não é fundamental o erro quadrático da aproximação ser pequeno, mas sim ser o menor dentre as opções oferecidas pelos demais digitos. Isso leva a pensar que mais importante que pensar se $W_{d}$ é fidedigno é pensar quão distinguível ele é dos demais.<br>\n",
    "E o que significa essa hipótese para este exemplo em específico? Tomando atenção ao 8 e sua forma, é justo crer que há uma maior semelhança deste com o 3, ou até com o 5, devido a suas curvas por vezes coincidentes, e a diferença de alguns poucos traços presentes ou ausentes.<br>\n",
    "Observando os treinos $W_{8}$, $W_{3}$ e $W_{5}$:"
   ]
  },
  {
   "cell_type": "markdown",
   "metadata": {},
   "source": [
    "<img src=\"figuras/treinos_W_8_100_10.png\" style=\"width:50%\">"
   ]
  },
  {
   "cell_type": "markdown",
   "metadata": {},
   "source": [
    "<img src=\"figuras/treinos_W_3_100_10.png\" style=\"width:50%\">"
   ]
  },
  {
   "cell_type": "markdown",
   "metadata": {},
   "source": [
    "<img src=\"figuras/treinos_W_5_100_10.png\" style=\"width:50%\">"
   ]
  },
  {
   "cell_type": "markdown",
   "metadata": {},
   "source": [
    "Em certa conformidade com o que esperado, as formas são em alguma medida parecidas. Como mais um elemento de teste da hipótese, para esse caso, pode-se levar em conta ainda o fato de como o dígito 1 é diferente em forma destes últimos citados, como mostra a representação visualizável de $W_{1}$ abaixo:"
   ]
  },
  {
   "cell_type": "markdown",
   "metadata": {},
   "source": [
    "<img src=\"figuras/treinos_W_1_100_10.png\" style=\"width:50%\">"
   ]
  },
  {
   "cell_type": "markdown",
   "metadata": {},
   "source": [
    "Em suma: de acordo com a hipótese em avaliação espera-se que o que pode explicar a grande quantidade de erros para o dígito 8 no caso 100_10 é a má distinguibilidade deste dígito e sua confundibilidade com outros dígitos como o 5 ou o 3, mas certamente não com o 1. Quantitativamente falando, espera-se que, considerando apenas os erros de identificação do 8, haja uma grande quantidade de palpites para o 5 ou o 3, e poucos palpites para o 1.<br>\n",
    "De modo a testar esta hipótese, fez-se uma análise de ranqueamento dos palpites errados. De maneira um pouco mais geral que o que proposto no documento de referência, a classe `PPTO` armazena não somente o melhor erro (o menor erro quadrático ao qual se associa o dígito correto a ser palpitado), mas também o \"local do erro\" (i.e., a qual dígito no gabarito fez-se um palpite errado) e o erro quadrático de todos os dígitos. Isso permite montar um ranking baseado em um dígito $d_{*}$: para todas as ocorrências de $d_{*}$ no gabarito, considera-se somente as vezes em que o palpite é um dígito $d_{k} \\neq d_{*}$ (ou seja, um erro de palpite) e a frequência dos $d_{k}' \\neq d_{k}'' \\neq d_{k}''' \\neq \\dots$, (diferentes dígitos errados palpitados) é contada e disposta em um gráfico.<br>\n",
    "<br>\n",
    "Dispõe-se a seguir a análise ranquada dos erros de 8 para o caso 100_10:"
   ]
  },
  {
   "cell_type": "markdown",
   "metadata": {},
   "source": [
    "<img src=\"figuras/top_3-digito_8-100_10.png\" style=\"width:90%\">"
   ]
  },
  {
   "cell_type": "markdown",
   "metadata": {},
   "source": [
    "Primeiro buscando compreender estes resultados, vê-se que, quando se faz um palpite errado à identificação do dígito 8, os dígitos mais palpitados são os dígitos 5 e 9, que apareceram 50 vezes cada em primeiro lugar nestes palpites errados. Como era de se esperar ainda, o número de vezes em que o dígito 8 foi palpitado em um palpite errado é 0, uma vez que, sendo palpitado 8, então trata-se de um acerto, e não um erro, que é o que se está estudando agora.<br>\n",
    "O comentário inicial e a consequente leitura do gráfico mostram que as derivações feitas a partir da hipótese inicial mostram-se adequadas: de fato, os dígitos 5 e 3 estão \"bem colocados\" no ranking de dígitos mal-palpitados, enquando dígitos como o 1 aparecem com menos frequência como o dígito chutado. Uma outra observação relevante que vem deste gráfico é a análise da segunda posição: o dígito 8 ganha com bastante vantagem sobre os demais. Isto é bem animador, da perpectiva da identidificação dos dígitos, pois significa que, mesmo quando se erra o palpite, quase sempre se tem o dígito correto como segunda opção.<br>\n",
    "Algumas outras análises podem reiterar esse comportamento de 0 do dígito correto na 1ª posição de erro e prevalência do dígito correto na 2ª posição do erro:"
   ]
  },
  {
   "cell_type": "markdown",
   "metadata": {},
   "source": [
    "<img src=\"figuras/top_3-digito_4-100_5.png\" style=\"width:90%\">"
   ]
  },
  {
   "cell_type": "markdown",
   "metadata": {},
   "source": [
    "<img src=\"figuras/top_3-digito_9-4000_5.png\" style=\"width:90%\">"
   ]
  },
  {
   "cell_type": "markdown",
   "metadata": {},
   "source": [
    "Como considerações finais, é interessante notar como este método, apesar de incluir alguma estocacidade, é bastante preciso e, quando não acerta, ao menos tinha a resposta certa como segunda opção na maioria dos casos, o que inegavelmente é uma informação animadora. O tratamento matricial das imagens e o artifício de decomposição em matrizes não-negativas mostrou-se, por um lado, palpável enquanto estratégia, crível enquanto abordagem, e, por outro, satisfatoriamente eficiente. Apesar da grande ajuda e esforço humanos, a máquina \"conseguiu trabalhar\" bem."
   ]
  },
  {
   "cell_type": "markdown",
   "metadata": {},
   "source": [
    "## <font color=#C8531A>Apêndice</font>"
   ]
  },
  {
   "cell_type": "markdown",
   "metadata": {},
   "source": [
    "Os testes foram realizados executando os métodos em estudo em situações cujo resultado é previamente conhecido, seja porque fornecido no documento de referência, porque calculado manualmente e/ou no `Octave`, ou porque evidente. Em todo caso, tal conhecimento \"a priori\" é aqui disposto acima de cada célula de código do teste."
   ]
  },
  {
   "cell_type": "markdown",
   "metadata": {},
   "source": [
    "> Observação: os testes vêm como métodos `teste_X` em virtude do não-compartilhamento (perigoso) de variáveis cujo nome é comumente empregado em demais métodos (e.g., $W$, $A$ etc.)."
   ]
  },
  {
   "cell_type": "markdown",
   "metadata": {},
   "source": [
    "### <font color=#C81A38>Teste dos métodos da Primeira Tarefa</font>"
   ]
  },
  {
   "cell_type": "markdown",
   "metadata": {},
   "source": [
    "__Teste de `cos_sin`__"
   ]
  },
  {
   "cell_type": "markdown",
   "metadata": {},
   "source": [
    "$W =\n",
    "\\begin{pmatrix}\n",
    "1 & 2 \\\\\n",
    "3 & 4\n",
    "\\end{pmatrix}$\n",
    "\n",
    "$i = 1, j = 2, k = 1 \\hspace{1cm} \\left( w_{1,1} = 1 < 3 = w_{2,1} \\right) \\hspace{1cm} \\tau = -\\frac{w_{1,1}}{w_{2,1}} = -\\frac{1}{3}\\\\\n",
    "sin = \\frac{1}{\\sqrt{1 + \\tau^{2}}} = \\frac{1}{\\sqrt{1 + (\\frac{1}{3})^{2}}} \\approx 0,9486833... \\hspace{2cm} cos = \\tau sin = - \\frac{0,9486833}{3} \\approx -0,31622777...$"
   ]
  },
  {
   "cell_type": "code",
   "execution_count": 26,
   "metadata": {},
   "outputs": [
    {
     "name": "stdout",
     "output_type": "stream",
     "text": [
      "cos = -0.3162277660168379\n",
      "sin = 0.9486832980505138\n"
     ]
    }
   ],
   "source": [
    "def teste_cos_sin():\n",
    "    W = np.array([[1.0,2.0], \n",
    "                  [3.0,4.0]])\n",
    "    c, s = cos_sin(W, 1, 2, 1)\n",
    "    print(\"cos =\",c)\n",
    "    print(\"sin =\",s)\n",
    "teste_cos_sin()"
   ]
  },
  {
   "cell_type": "markdown",
   "metadata": {},
   "source": [
    "__Teste de `rot_Givens`__"
   ]
  },
  {
   "cell_type": "markdown",
   "metadata": {},
   "source": [
    "Exemplo da página 2 do documento de referência.<br>\n",
    "$Q(3,4,\\theta) \\cdot W = Q(3,4,\\theta) \\cdot\n",
    "\\begin{pmatrix}\n",
    "2 & 1 & 1 & -1 & 1 \\\\\n",
    "0 & 3 & 0 & 1 & 2 \\\\\n",
    "0 & 0 & 2 & 2 & -1 \\\\\n",
    "0 & 0 & -1 & 1 & 2 \\\\\n",
    "0 & 0 & 0 & 3 & 1\n",
    "\\end{pmatrix} = \n",
    "\\begin{pmatrix}\n",
    "2 & 1 & 1 & -1 & 1 \\\\\n",
    "0 & 3 & 0 & 1 & 2 \\\\\n",
    "0 & 0 & \\frac{5}{\\sqrt{5}} & \\frac{3}{\\sqrt{5}} & -\\frac{4}{\\sqrt{5}} \\\\\n",
    "0 & 0 & 0 & \\frac{4}{\\sqrt{5}} & \\frac{3}{\\sqrt{5}} \\\\\n",
    "0 & 0 & 0 & 3 & 1\n",
    "\\end{pmatrix} \\approx\n",
    "\\begin{pmatrix}\n",
    "2 & 1 & 1 & -1 & 1 \\\\\n",
    "0 & 3 & 0 & 1 & 2 \\\\\n",
    "0 & 0 & 2,23606798 & 1,34164079 & -1,78885438 \\\\\n",
    "0 & 0 & 0 & 1,78885438 & 1,34164079 \\\\\n",
    "0 & 0 & 0 & 3 & 1\n",
    "\\end{pmatrix}$"
   ]
  },
  {
   "cell_type": "code",
   "execution_count": null,
   "metadata": {},
   "outputs": [],
   "source": [
    "def teste_rot_Givens():\n",
    "    A = np.array([[2.0, 1.0, 1.0,-1.0, 1.0],\n",
    "                  [0.0, 3.0, 0.0, 1.0, 2.0],\n",
    "                  [0.0, 0.0, 2.0, 2.0,-1.0],\n",
    "                  [0.0, 0.0,-1.0, 1.0, 2.0],\n",
    "                  [0.0, 0.0, 0.0, 3.0, 1.0]])\n",
    "\n",
    "    cos, sin = cos_sin(A, 3, 4, 3)\n",
    "    rot_Givens(A, 5, 5, 3, 4, cos, sin)\n",
    "    print(A)\n",
    "teste_rot_Givens()"
   ]
  },
  {
   "cell_type": "markdown",
   "metadata": {},
   "source": [
    "__Teste de `solve`__"
   ]
  },
  {
   "cell_type": "markdown",
   "metadata": {},
   "source": [
    "(comentar o lance das últimas linhas)"
   ]
  },
  {
   "cell_type": "markdown",
   "metadata": {},
   "source": [
    "$W \\cdot x = b \\Rightarrow\n",
    "\\begin{pmatrix}\n",
    "1 & 2 \\\\\n",
    "3 & 4 \\\\\n",
    "5 & 6\n",
    "\\end{pmatrix}\n",
    "\\cdot\n",
    "\\begin{pmatrix}\n",
    "x_{1} \\\\\n",
    "x_{2}\n",
    "\\end{pmatrix}\n",
    "=\n",
    "\\begin{pmatrix}\n",
    "1 \\\\\n",
    "1 \\\\\n",
    "1\n",
    "\\end{pmatrix} \\Rightarrow\n",
    "x = \n",
    "\\begin{pmatrix}\n",
    "-1 \\\\\n",
    "1\n",
    "\\end{pmatrix}\n",
    "$"
   ]
  },
  {
   "cell_type": "code",
   "execution_count": null,
   "metadata": {},
   "outputs": [],
   "source": [
    "def teste_solve():\n",
    "    W = np.array([[1.0, 2.0], [3.0, 4.0], [5.0, 6.0]])\n",
    "    b = np.array([[1.0], [1.0], [1.0]])\n",
    "\n",
    "    solve(W, b, 3, 2)\n",
    "    print(\"x =\\n\",b[0:2,:])\n",
    "teste_solve()"
   ]
  },
  {
   "cell_type": "markdown",
   "metadata": {},
   "source": [
    "__Teste de `solve_multi`__"
   ]
  },
  {
   "cell_type": "markdown",
   "metadata": {},
   "source": [
    "$W \\cdot x = A \\Rightarrow\n",
    "\\begin{pmatrix}\n",
    "1 & 2 \\\\\n",
    "2 & 1\n",
    "\\end{pmatrix}\n",
    "\\cdot\n",
    "\\begin{pmatrix}\n",
    "x_{1,1} & x_{1,2} & x_{1,3} \\\\\n",
    "x_{2,1} & x_{2,2} & x_{2,3}\n",
    "\\end{pmatrix}\n",
    "=\n",
    "\\begin{pmatrix}\n",
    "1 & 2 & 3 \\\\\n",
    "4 & 5 & 6\n",
    "\\end{pmatrix} \\Rightarrow\n",
    "x = \n",
    "\\begin{pmatrix}\n",
    "\\frac{7}{3} & \\frac{8}{3} & 3 \\\\\n",
    "-\\frac{2}{3} & -\\frac{1}{3} & 0\n",
    "\\end{pmatrix} \\approx\n",
    "\\begin{pmatrix}\n",
    "2,33333331 & 2,66666664 & 3 \\\\\n",
    "-0,66666666 & -0,33333333 & 0\n",
    "\\end{pmatrix} \n",
    "$"
   ]
  },
  {
   "cell_type": "code",
   "execution_count": null,
   "metadata": {},
   "outputs": [],
   "source": [
    "def teste_solve_multi():\n",
    "    W = np.array([[1.0, 2.0], [2.0, 1.0]])\n",
    "    A = np.array([[1.0,2.0,3.0],[4.0,5.0,6.0]])\n",
    "\n",
    "    solve_multi(W, A, 2, 3, 2)\n",
    "    print(\"x =\\n\",A)\n",
    "teste_solve_multi()"
   ]
  },
  {
   "cell_type": "markdown",
   "metadata": {},
   "source": [
    "### <font color=#C81A38>Teste dos métodos da Segunda Tarefa</font>"
   ]
  },
  {
   "cell_type": "markdown",
   "metadata": {},
   "source": [
    "__Teste de `erro`__"
   ]
  },
  {
   "cell_type": "markdown",
   "metadata": {},
   "source": [
    "Exemplo da página 6 do documento de referência (decomposição exata).<br>\n",
    "$E = \\| A - WH  \\|^2 = 0$, para <br><br>\n",
    "$A =\n",
    "\\begin{pmatrix}\n",
    "\\frac{3}{10} & \\frac{3}{5} & 0 \\\\\n",
    "\\frac{1}{2} & 0 & 1 \\\\\n",
    "\\frac{4}{10} & \\frac{4}{5} & 0\n",
    "\\end{pmatrix}, \\quad W =\n",
    "\\begin{pmatrix}\n",
    "\\frac{3}{5} & 0 \\\\\n",
    "0 & 1 \\\\\n",
    "\\frac{4}{5} & 0\n",
    "\\end{pmatrix}, \\quad H =\n",
    "\\begin{pmatrix}\n",
    "\\frac{1}{2} & 1 & 0 \\\\\n",
    "\\frac{1}{2} & 0 & 1\n",
    "\\end{pmatrix}$"
   ]
  },
  {
   "cell_type": "code",
   "execution_count": null,
   "metadata": {},
   "outputs": [],
   "source": [
    "def teste_erro():\n",
    "    A = np.array([[0.3,0.6,0.0],[0.5,0.0,1.0],[0.4,0.8,0.0]])\n",
    "    W = np.array([[0.6,0.0],[0.0,1.0],[0.8,0.0]])\n",
    "    H = np.array([[0.5,1.0,0.0],[0.5,0.0,1.0]])\n",
    "    E = erro(A,W,H,3,3)\n",
    "    print(\"E =\", E)\n",
    "teste_erro()"
   ]
  },
  {
   "cell_type": "markdown",
   "metadata": {},
   "source": [
    "__Teste de `norm`__"
   ]
  },
  {
   "cell_type": "markdown",
   "metadata": {},
   "source": [
    "Pela definição de normalização, <br>\n",
    "$normalização \\left[ \\begin{pmatrix}\n",
    "1 & 2 & 3 \\\\\n",
    "4 & 5 & 6 \\\\\n",
    "7 & 8 & 9\n",
    "\\end{pmatrix} \\right] = \n",
    "\\begin{pmatrix}\n",
    "\\frac{1}{\\sqrt{66}} & \\frac{2}{\\sqrt{93}} & \\frac{3}{\\sqrt{126}} \\\\\n",
    "\\frac{4}{\\sqrt{66}} & \\frac{5}{\\sqrt{93}} & \\frac{6}{\\sqrt{126}} \\\\\n",
    "\\frac{7}{\\sqrt{66}} & \\frac{8}{\\sqrt{93}} & \\frac{9}{\\sqrt{126}}\n",
    "\\end{pmatrix} \\approx\n",
    "\\begin{pmatrix}\n",
    "0,12309149 & 0,20739034 & 0,26726124 \\\\\n",
    "0,49236596 & 0,51847585 & 0,53452248 \\\\\n",
    "0,86164043 & 0,82956136 & 0,80178372\n",
    "\\end{pmatrix}$"
   ]
  },
  {
   "cell_type": "code",
   "execution_count": null,
   "metadata": {},
   "outputs": [],
   "source": [
    "def teste_norm():\n",
    "    W = np.array([[1.0,2.0,3.0],[4.0,5.0,6.0],[7.0,8.0,9.0]])\n",
    "    A = norm(W,3,3)\n",
    "    print(\"norm(W) =\\n\",A)\n",
    "teste_norm()"
   ]
  },
  {
   "cell_type": "markdown",
   "metadata": {},
   "source": [
    "__Teste de `set_matrix`__"
   ]
  },
  {
   "cell_type": "markdown",
   "metadata": {},
   "source": [
    "Pela definição deste tipo de matriz (página 5 do documento de referência),<br><br>\n",
    "$redefinição\\left(2,4\\right) \\left[ \\begin{pmatrix}\n",
    "-1 & 2 & -3 & 4 \\\\\n",
    "5 & -6 & 7 & -8 \\\\\n",
    "9 & 10 & 11 & 12 \\\\\n",
    "13 & 14 & 15 & 16\n",
    "\\end{pmatrix} \\right] = \n",
    "\\begin{pmatrix}\n",
    "0 & 2 & 0 & 4 \\\\\n",
    "5 & 0 & 7 & 0\n",
    "\\end{pmatrix}\n",
    "$"
   ]
  },
  {
   "cell_type": "code",
   "execution_count": null,
   "metadata": {},
   "outputs": [],
   "source": [
    "def teste_set_matrix():\n",
    "    A = np.array([[-1.0,2.0,-3.0,4.0],[5.0,-6.0,7.0,-8.0],[9.0,10.0,11.0,12.0],[13.0,14.0,15.0,16.0]])\n",
    "    B = set_matrix(A,2,4)\n",
    "    print(\"B =\\n\",B)\n",
    "teste_set_matrix()"
   ]
  },
  {
   "cell_type": "markdown",
   "metadata": {},
   "source": [
    "__Teste de `NMF`__"
   ]
  },
  {
   "cell_type": "markdown",
   "metadata": {},
   "source": [
    "Exemplo da página 6 do documento de referência (decomposição exata).\n",
    "> Observação: Neste caso, em que $\\epsilon = 10^{-5}$, a resposta não é exata. Testes aqui omitidos foram feitos com precisão bem maior $\\left(\\epsilon = 10^{-40} \\right)$ e por meio destes obteve-se resultado exato indicado no documento. Isto comprova a eficiência do algoritmo.<br>\n",
    "Não é de interesse, porém, esse nível de precisão, uma vez que grande parte das matrizes com as quais `NMF` lidará sequer possuem decomposição exata. É por este motivo que o resultado apresentado (assim como todos os demais calculados por este método) tem $\\epsilon = 10^{-5}$."
   ]
  },
  {
   "cell_type": "markdown",
   "metadata": {},
   "source": [
    "$A = W \\cdot H \\Rightarrow\n",
    "\\begin{pmatrix}\n",
    "\\frac{3}{10} & \\frac{3}{5} & 0 \\\\\n",
    "\\frac{1}{2} & 0 & 1 \\\\\n",
    "\\frac{4}{10} & \\frac{4}{5} & 0\n",
    "\\end{pmatrix} =\n",
    "\\begin{pmatrix}\n",
    "\\frac{3}{5} & 0 \\\\\n",
    "0 & 1 \\\\\n",
    "\\frac{4}{5} & 0 \\\\\n",
    "\\end{pmatrix} \\cdot\n",
    "\\begin{pmatrix}\n",
    "\\frac{1}{2} & 1 & 0 \\\\\n",
    "\\frac{1}{2} & 0 & 1\n",
    "\\end{pmatrix} \\Rightarrow\n",
    "W =\n",
    "\\begin{pmatrix}\n",
    "0,6 & 0 \\\\\n",
    "0 & 1 \\\\\n",
    "0,8 & 0 \\\\\n",
    "\\end{pmatrix}, \\quad\n",
    "H =\n",
    "\\begin{pmatrix}\n",
    "0,5 & 1 & 0 \\\\\n",
    "0,5 & 0 & 1\n",
    "\\end{pmatrix}$"
   ]
  },
  {
   "cell_type": "code",
   "execution_count": null,
   "metadata": {
    "scrolled": true
   },
   "outputs": [],
   "source": [
    "def teste_NMF():\n",
    "    A = np.array([[0.3,0.6,0.0],[0.5,0.0,1.0],[0.4,0.8,0.0]])\n",
    "    n = 3\n",
    "    m = 3\n",
    "    p = 2\n",
    "    W, H = NMF(A, n, m, p)\n",
    "    print(\"W =\\n\",W)\n",
    "    print(\"H =\\n\",H)\n",
    "teste_NMF()"
   ]
  },
  {
   "cell_type": "markdown",
   "metadata": {},
   "source": [
    "### <font color=#C81A38>Verificação dos resultados pelo Octave dos Testes Sugeridos</font>"
   ]
  },
  {
   "cell_type": "markdown",
   "metadata": {},
   "source": [
    "Para os __Testes Sugeridos__ da Primeira Tarefa, foi conveniente calcular o que pedido também pelo `Octave`, de modo a poder comparar os resultados. Os resultados destes testes seguem-se a seguir: "
   ]
  },
  {
   "cell_type": "markdown",
   "metadata": {},
   "source": [
    "__teste A__<br>\n",
    "octave:17> inv(W)*b<br>\n",
    "ans =<br>\n",
    "\n",
    "    0.492308\n",
    "    0.015385\n",
    "    0.476923\n",
    "    0.030769\n",
    "    0.461538\n",
    "    0.046154\n",
    "    0.446154\n",
    "    0.061538\n",
    "    0.430769\n",
    "    0.076923\n",
    "    0.415385\n",
    "    0.092308\n",
    "    0.400000\n",
    "    0.107692\n",
    "    0.384615\n",
    "    0.123077\n",
    "    0.369231\n",
    "    0.138462\n",
    "    0.353846\n",
    "    0.153846\n",
    "    0.338462\n",
    "    0.169231\n",
    "    0.323077\n",
    "    0.184615\n",
    "    0.307692\n",
    "    0.200000\n",
    "    0.292308\n",
    "    0.215385\n",
    "    0.276923\n",
    "    0.230769\n",
    "    0.261538\n",
    "    0.246154\n",
    "    0.246154\n",
    "    0.261538\n",
    "    0.230769\n",
    "    0.276923\n",
    "    0.215385\n",
    "    0.292308\n",
    "    0.200000\n",
    "    0.307692\n",
    "    0.184615\n",
    "    0.323077\n",
    "    0.169231\n",
    "    0.338462\n",
    "    0.153846\n",
    "    0.353846\n",
    "    0.138462\n",
    "    0.369231\n",
    "    0.123077\n",
    "    0.384615\n",
    "    0.107692\n",
    "    0.400000\n",
    "    0.092308\n",
    "    0.415385\n",
    "    0.076923\n",
    "    0.430769\n",
    "    0.061538\n",
    "    0.446154\n",
    "    0.046154\n",
    "    0.461538\n",
    "    0.030769\n",
    "    0.476923\n",
    "    0.015385\n",
    "    0.492308\n",
    "\n",
    "__teste B__<br>\n",
    "octave:6> x = linsolve(W,b)<br>\n",
    "x =<br>\n",
    "\n",
    "    56.358\n",
    "    -45.875\n",
    "    -43.489\n",
    "    -48.577\n",
    "    -30.140\n",
    "    89.812\n",
    "    48.714\n",
    "    59.239\n",
    "    11.446\n",
    "    109.163\n",
    "    -72.873\n",
    "    -54.363\n",
    "    -51.444\n",
    "    -25.015\n",
    "    98.572\n",
    "    218.659\n",
    "    298.400\n",
    "\n",
    "__teste C__<br>\n",
    "octave:14> inv(W)*A<br>\n",
    "ans =<br>\n",
    "\n",
    "     0   -32   -64\n",
    "     1     1     2\n",
    "     1    34    68\n",
    "     0     2     4\n",
    "     0   -30   -60\n",
    "     1     3     6\n",
    "     1    36    72\n",
    "     0     4     8\n",
    "     0   -28   -56\n",
    "     1     5    10\n",
    "     1    38    76\n",
    "     0     6    12\n",
    "     0   -26   -52\n",
    "     1     7    14\n",
    "     1    40    80\n",
    "     0     8    16\n",
    "     0   -24   -48\n",
    "     1     9    18\n",
    "     1    42    84\n",
    "     0    10    20\n",
    "     0   -22   -44\n",
    "     1    11    22\n",
    "     1    44    88\n",
    "     0    12    24\n",
    "     0   -20   -40\n",
    "     1    13    26\n",
    "     1    46    92\n",
    "     0    14    28\n",
    "     0   -18   -36\n",
    "     1    15    30\n",
    "     1    48    96\n",
    "     0    16    32\n",
    "     0   -16   -32\n",
    "     1    17    34\n",
    "     1    50   100\n",
    "     0    18    36\n",
    "     0   -14   -28\n",
    "     1    19    38\n",
    "     1    52   104\n",
    "     0    20    40\n",
    "     0   -12   -24\n",
    "     1    21    42\n",
    "     1    54   108\n",
    "     0    22    44\n",
    "     0   -10   -20\n",
    "     1    23    46\n",
    "     1    56   112\n",
    "     0    24    48\n",
    "     0    -8   -16\n",
    "     1    25    50\n",
    "     1    58   116\n",
    "     0    26    52\n",
    "     0    -6   -12\n",
    "     1    27    54\n",
    "     1    60   120\n",
    "     0    28    56\n",
    "     0    -4    -8\n",
    "     1    29    58\n",
    "     1    62   124\n",
    "     0    30    60\n",
    "     0    -2    -4\n",
    "     1    31    62\n",
    "     1    64   128\n",
    "     0    32    64\n",
    "     \n",
    "__teste D__<br>\n",
    "octave:9> x = linsolve (W,A)<br>\n",
    "x =<br>\n",
    "\n",
    "     2.88155    56.35781   112.71562\n",
    "    -1.83376   -45.87485   -91.74970\n",
    "    -1.51399   -43.48902   -86.97805\n",
    "    -1.52191   -48.57655   -97.15310\n",
    "    -0.45379   -30.14020   -60.28040\n",
    "     5.85670    89.81212   179.62424\n",
    "     3.42193    48.71365    97.42730\n",
    "     3.65656    59.23925   118.47849\n",
    "     1.20368    11.44636    22.89271\n",
    "     6.12534   109.16274   218.32547\n",
    "    -2.47971   -72.87275  -145.74551\n",
    "    -1.47793   -54.36289  -108.72579\n",
    "    -1.20390   -51.44442  -102.88883\n",
    "     0.12841   -25.01481   -50.02963\n",
    "     6.50159    98.57194   197.14388\n",
    "    11.49106   218.65886   437.31772\n",
    "    14.58053   298.40023   596.80046\n"
   ]
  },
  {
   "cell_type": "markdown",
   "metadata": {},
   "source": [
    "### <font color=#C81A38>Geração de gráficos para a análise dos resultados</font>"
   ]
  },
  {
   "cell_type": "code",
   "execution_count": 31,
   "metadata": {},
   "outputs": [],
   "source": [
    "def get_data():\n",
    "    data = [[],[],[]]\n",
    "    ndig = [100, 1000, 4000]\n",
    "    ps = [5, 10, 15]\n",
    "\n",
    "    for x in range(len(ps)):\n",
    "        for y in range(len(ndig)):\n",
    "            report = \"reports/report_{}_{}.txt\".format(ndig[y], ps[x])\n",
    "            with open(report, \"r\") as f:\n",
    "                    lines = f.readlines()\n",
    "                    data[y].append(float(lines[2][-7:-2]))\n",
    "\n",
    "    return data[0], data[1], data[2]"
   ]
  },
  {
   "cell_type": "code",
   "execution_count": 32,
   "metadata": {},
   "outputs": [],
   "source": [
    "def get_data1(ndig, p):\n",
    "    report = \"reports/report_{}_{}.txt\".format(ndig, p)\n",
    "    \n",
    "    with open(report, \"r\") as f:\n",
    "        lines = f.read().replace('\\n', ' ')\n",
    "        matched = re.findall('[0-9]+\\.[0-9]+', lines)\n",
    "        matched = matched[1:]\n",
    "        for index in range(len(matched)):\n",
    "            matched[index] = float(matched[index])\n",
    "        return matched"
   ]
  },
  {
   "cell_type": "code",
   "execution_count": 33,
   "metadata": {},
   "outputs": [],
   "source": [
    "def autolabel(rects):\n",
    "    \"\"\"Attach a text label above each bar in *rects*, displaying its height.\"\"\"\n",
    "    for rect in rects:\n",
    "        height = rect.get_height()\n",
    "        ax.annotate('{}'.format(height),\n",
    "                    xy=(rect.get_x() + rect.get_width() / 2, height),\n",
    "                    xytext=(0, 3),  # 3 points vertical offset\n",
    "                    textcoords=\"offset points\",\n",
    "                    ha='center', va='bottom')"
   ]
  },
  {
   "cell_type": "code",
   "execution_count": 34,
   "metadata": {},
   "outputs": [
    {
     "data": {
      "image/png": "[encoded data removed]",
      "text/plain": [
       "<Figure size 432x288 with 1 Axes>"
      ]
     },
     "metadata": {
      "needs_background": "light"
     },
     "output_type": "display_data"
    }
   ],
   "source": [
    "def data_mean(data):\n",
    "    y = []\n",
    "\n",
    "    for p in data:\n",
    "        y.append((p[0] + p[1] + p[2])/3)\n",
    "    return y\n",
    "\n",
    "labels = ['p = 5','p = 10','p = 15']\n",
    "data1, data2, data3 = get_data()\n",
    "\n",
    "x = np.arange(len(labels))  # the label locations\n",
    "width = 0.25  # the width of the bars\n",
    "\n",
    "fig, ax = plt.subplots()\n",
    "y = data_mean([data1, data2, data3])\n",
    "\n",
    "mean = ax.plot([0,1,2], y,'.-', color='#274c77', label=\"média dos ndig\")\n",
    "\n",
    "rects1 = ax.bar(x - width, data1, width, label='ndig = 100', fc='#e0aaff')\n",
    "rects2 = ax.bar(x, data2, width, label='ndig = 1000', fc='#c77dff')\n",
    "rects3 = ax.bar(x + width, data3, width, label='ndig = 4000', fc='#9d4edd')\n",
    "\n",
    "ax.set_ylabel('Porcentagem de acertos')\n",
    "ax.set_title('Acertos por ndig e p')\n",
    "ax.set_ylim(ymin=80)\n",
    "ax.set_xticks(x)\n",
    "ax.set_xticklabels(labels)\n",
    "ax.legend(loc=2)\n",
    "\n",
    "autolabel(rects1)\n",
    "autolabel(rects2)\n",
    "autolabel(rects3)\n",
    "\n",
    "fig.tight_layout()\n",
    "plt.savefig('figuras/acerto_ndig_p.png', dpi=150)\n",
    "plt.show()"
   ]
  },
  {
   "cell_type": "code",
   "execution_count": 40,
   "metadata": {},
   "outputs": [
    {
     "data": {
      "image/png": "[encoded data removed]",
      "text/plain": [
       "<Figure size 432x288 with 1 Axes>"
      ]
     },
     "metadata": {
      "needs_background": "light"
     },
     "output_type": "display_data"
    }
   ],
   "source": [
    "def compare_casos(ndig1, p1, ndig2, p2):\n",
    "    fig1, ax1 = plt.subplots()\n",
    "\n",
    "    caso1 = get_data1(ndig1,p1)\n",
    "    caso2 = get_data1(ndig2,p2)\n",
    "\n",
    "    labels = ['0','1','2','3','4','5','6','7','8','9']\n",
    "    x = np.arange(len(labels))  # the label locations\n",
    "    width = 0.25\n",
    "\n",
    "    rects1 = ax1.bar(x - width/2, caso1, width, label='{}_{}'.format(ndig1,p1), fc='#e0aaff')\n",
    "    rects2 = ax1.bar(x + width/2, caso2, width, label='{}_{}'.format(ndig2,p2), fc='#c77dff')\n",
    "\n",
    "    ax1.set_ylabel('Porcentagem de acertos')\n",
    "    ax1.set_title('Variação de acertos (caso {}_{} e {}_{})'.format(ndig1, p1, ndig2, p2))\n",
    "    ax1.set_ylim(ymin=76)\n",
    "    ax1.set_xticks(x)\n",
    "    ax1.set_xticklabels(labels)\n",
    "\n",
    "    ax1.legend(loc=1)\n",
    "    plt.savefig('figuras/acertos-{}_{}-{}_{}.png'.format(ndig1, p1, ndig2, p2), dpi=150)\n",
    "    plt.show()\n",
    "compare_casos(4000, 5, 4000, 15)"
   ]
  },
  {
   "cell_type": "code",
   "execution_count": 36,
   "metadata": {},
   "outputs": [],
   "source": [
    "# depende dos erros e do onde errou\n",
    "def get_k_rank(k, ndig, p, digito):\n",
    "    # inicializa o dicionário\n",
    "    topk_digitos = {}\n",
    "    for i in range(1, k+1):\n",
    "        topk_digitos[i] = {}\n",
    "        \n",
    "    with open('dados_mnist/test_index.txt') as f:\n",
    "        asw = np.loadtxt(f, dtype=np.int8)\n",
    "    \n",
    "    erros = np.loadtxt('erros/erros_{}_{}.txt'.format(ndig, p))\n",
    "    \n",
    "    with open('erros/onde_errou_{}_{}.txt'.format(ndig, p), \"r\") as f:\n",
    "        # iterando pelos erros\n",
    "        for pos in f.readlines():\n",
    "            pos = int(pos)\n",
    "            d = asw[pos]\n",
    "            #print(pos)\n",
    "            if d == digito: # apenas olho para o digito escolhido\n",
    "                erro_d = {}\n",
    "                #print(pos)\n",
    "                for val in range(10):\n",
    "                    erro_d[erros[val, pos]] = val    \n",
    "                erro_d = sorted(erro_d.items()) # ordena os erros\n",
    "                #print(str(d) + '\\n' + str(erro_d))\n",
    "                for i in range(0, k):\n",
    "                    dl = erro_d[i][1]\n",
    "                    #print(dl)\n",
    "                    if dl not in topk_digitos[i + 1]: # inicializa os valores\n",
    "                        topk_digitos[i + 1][dl] = 1\n",
    "                    else:\n",
    "                        topk_digitos[i + 1][dl] += 1 # faz o update\n",
    "                #print('----')\n",
    "        return topk_digitos"
   ]
  },
  {
   "cell_type": "code",
   "execution_count": 37,
   "metadata": {},
   "outputs": [],
   "source": [
    "def autolabel_deluxe(rects, ax):\n",
    "    \"\"\"Attach a text label above each bar in *rects*, displaying its height.\"\"\"\n",
    "    for rect in rects:\n",
    "        height = rect.get_height()\n",
    "        ax.annotate('{}'.format(height),\n",
    "                    xy=(rect.get_x() + rect.get_width() / 2, height),\n",
    "                    xytext=(0, 3),  # 3 points vertical offset\n",
    "                    textcoords=\"offset points\",\n",
    "                    ha='center', va='bottom')"
   ]
  },
  {
   "cell_type": "code",
   "execution_count": 38,
   "metadata": {},
   "outputs": [],
   "source": [
    "def plot_top_k(topks, k, ndig, p, digito, preset):\n",
    "    labels = ['0','1','2','3','4','5','6','7','8','9']\n",
    "    \n",
    "    fig, ax = plt.subplots(preset[0], preset[1], figsize=(13,6)) \n",
    "    fig.subplots_adjust(bottom=0.1, top=0.88)\n",
    "    fig.suptitle('Histogramas do top {} digitos chutados no lugar do {} - caso {}_{}'.format(k, digito, ndig, p), size=15, y=1.05)\n",
    "    \n",
    "    for i in range(k):\n",
    "        rect = ax[i].bar(list(topks[i + 1].keys()), topks[i + 1].values(), width=0.5, color='#c77dff')\n",
    "        autolabel_deluxe(rect, ax[i])\n",
    "        ax[i].set_title('{}º posição'.format(i + 1), size=14)\n",
    "        \n",
    "        ax[i].set_ylabel('Frequência', size=14)\n",
    "        x = np.arange(len(labels))  # the label locations\n",
    "        ax[i].set_xticks(x)\n",
    "        ax[i].set_xticklabels(labels)\n",
    "        \n",
    "    plt.savefig('figuras/top_{}-digito_{}-{}_{}.png'.format(k, digito, ndig, p), dpi=150)\n",
    "    plt.show()"
   ]
  },
  {
   "cell_type": "code",
   "execution_count": 41,
   "metadata": {},
   "outputs": [
    {
     "data": {
      "image/png": "[encoded data removed]",
      "text/plain": [
       "<Figure size 936x432 with 3 Axes>"
      ]
     },
     "metadata": {
      "needs_background": "light"
     },
     "output_type": "display_data"
    }
   ],
   "source": [
    "def create_top_plots(k=3, ndig=4000, p=5, digito=9, preset=(1,3)): # preset define como dispor as imagens (depende de k)\n",
    "    topks = get_k_rank(k,ndig,p,digito)\n",
    "    plot_top_k(topks,k,ndig,p,digito,preset)\n",
    "create_top_plots()"
   ]
  },
  {
   "cell_type": "code",
   "execution_count": null,
   "metadata": {},
   "outputs": [],
   "source": []
  }
 ],
 "metadata": {
  "kernelspec": {
   "display_name": "Python 3",
   "language": "python",
   "name": "python3"
  },
  "language_info": {
   "codemirror_mode": {
    "name": "ipython",
    "version": 3
   },
   "file_extension": ".py",
   "mimetype": "text/x-python",
   "name": "python",
   "nbconvert_exporter": "python",
   "pygments_lexer": "ipython3",
   "version": "3.8.5"
  }
 },
 "nbformat": 4,
 "nbformat_minor": 4
}
