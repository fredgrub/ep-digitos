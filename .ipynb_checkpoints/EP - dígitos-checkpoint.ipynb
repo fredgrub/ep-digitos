{
 "cells": [
  {
   "cell_type": "markdown",
   "metadata": {},
   "source": [
    "# Fatoração de Matrizes para Sistemas de Classificação de Machine Learning\n",
    "## CCM0218 2020.2\n",
    "### Fernando Valls Yoshida (11246714) e Lucas de Sousa Rosa (11296717)"
   ]
  },
  {
   "cell_type": "code",
   "execution_count": 3,
   "metadata": {},
   "outputs": [],
   "source": [
    "import numpy as np\n",
    "import math"
   ]
  },
  {
   "cell_type": "markdown",
   "metadata": {},
   "source": [
    "## Rotação de Givens"
   ]
  },
  {
   "cell_type": "code",
   "execution_count": 4,
   "metadata": {},
   "outputs": [],
   "source": [
    "def rot_Givens(W, n, m, i, j, c, s):\n",
    "    # contando igual gente\n",
    "    i = i - 1\n",
    "    j = j - 1\n",
    "    \n",
    "    for r in range(m): # 0 até m - 1\n",
    "        aux = c*W[i,r] - s*W[j,r]\n",
    "        W[j,r] = s*W[i,r] + c*W[j,r]\n",
    "        W[i,r] = aux"
   ]
  },
  {
   "cell_type": "code",
   "execution_count": 5,
   "metadata": {},
   "outputs": [],
   "source": [
    "def cos_sin(W, i, j, k):\n",
    "    i = i - 1\n",
    "    j = j - 1\n",
    "    k = k - 1\n",
    "    \n",
    "    if abs(W[i,k]) > abs(W[j,k]):\n",
    "        t = -W[j,k]/W[i,k]\n",
    "        c = 1/math.sqrt(1 + t**2)\n",
    "        s = c*t\n",
    "    else:\n",
    "        t = -W[i, k]/W[j, k]\n",
    "        s = 1/math.sqrt(1 + t**2)\n",
    "        c = s*t    \n",
    "    return c, s"
   ]
  },
  {
   "cell_type": "markdown",
   "metadata": {},
   "source": [
    "## Exemplos para teste"
   ]
  },
  {
   "cell_type": "code",
   "execution_count": 6,
   "metadata": {},
   "outputs": [
    {
     "name": "stdout",
     "output_type": "stream",
     "text": [
      "sin: 0.9486832980505138 \n",
      "cos: -0.3162277660168379\n",
      "[[-3.16227766e+00 -4.42718872e+00]\n",
      " [ 1.11022302e-16  6.32455532e-01]]\n"
     ]
    }
   ],
   "source": [
    "W = np.array([[1.0,2.0], \n",
    "              [3.0,4.0]])\n",
    "c, s = cos_sin(W, 1, 2, 1)\n",
    "\n",
    "print(\"sin: {} \\ncos: {}\".format(s,c))\n",
    "\n",
    "rot_Givens(W, 2, 2, 1, 2, c, s)\n",
    "print(W)"
   ]
  },
  {
   "cell_type": "code",
   "execution_count": 7,
   "metadata": {},
   "outputs": [
    {
     "name": "stdout",
     "output_type": "stream",
     "text": [
      "[[ 2.          1.          1.         -1.          1.        ]\n",
      " [ 0.          3.          0.          1.          2.        ]\n",
      " [ 0.          0.          2.23606798  1.34164079 -1.78885438]\n",
      " [ 0.          0.          0.          1.78885438  1.34164079]\n",
      " [ 0.          0.          0.          3.          1.        ]]\n"
     ]
    }
   ],
   "source": [
    "A = np.array([[2.0, 1.0, 1.0,-1.0, 1.0],\n",
    "              [0.0, 3.0, 0.0, 1.0, 2.0],\n",
    "              [0.0, 0.0, 2.0, 2.0,-1.0],\n",
    "              [0.0, 0.0,-1.0, 1.0, 2.0],\n",
    "              [0.0, 0.0, 0.0, 3.0, 1.0]])\n",
    "\n",
    "cos, sin = cos_sin(A, 3, 4, 3)\n",
    "\n",
    "rot_Givens(A, 5, 5, 3, 4, cos, sin)\n",
    "print(A)"
   ]
  },
  {
   "cell_type": "markdown",
   "metadata": {},
   "source": [
    "## Resolução dos sistemas sobredeterminados"
   ]
  },
  {
   "cell_type": "code",
   "execution_count": 8,
   "metadata": {},
   "outputs": [],
   "source": [
    "eps = 10e-10\n",
    "def solve(W, b, n, m):\n",
    "    for k in range(1, m + 1):\n",
    "        for j in range(n, k, -1):\n",
    "            i = j - 1\n",
    "            if abs(W[j - 1, k - 1]) > eps:\n",
    "                cos, sin = cos_sin(W, i, j, k)\n",
    "                rot_Givens(W, n, m, i, j, cos, sin)\n",
    "                rot_Givens(b, n, 1, i, j, cos, sin)\n",
    "    \n",
    "    #print(W)\n",
    "    for k in range(m, 0, -1):\n",
    "        soma = 0\n",
    "        for j in range(k + 1, m + 1):\n",
    "            soma += W[k - 1, j - 1]*b[j - 1, 0]\n",
    "        b[k - 1, 0] = (b[k - 1, 0] - soma)/W[k - 1, k - 1]"
   ]
  },
  {
   "cell_type": "markdown",
   "metadata": {},
   "source": [
    "## Exemplo"
   ]
  },
  {
   "cell_type": "code",
   "execution_count": 9,
   "metadata": {},
   "outputs": [
    {
     "name": "stdout",
     "output_type": "stream",
     "text": [
      "final \n",
      "[[-1.]\n",
      " [ 1.]]\n"
     ]
    }
   ],
   "source": [
    "W = np.array([[1.0, 2.0, 3.0], [4.0, 5.0, 6.0]])\n",
    "b = np.array([[1.0], [1.0]])\n",
    "\n",
    "solve(W, b, 2, 2)\n",
    "\n",
    "print(\"final \\n{}\".format(b))"
   ]
  },
  {
   "cell_type": "markdown",
   "metadata": {},
   "source": [
    "### Vários sistemas simultâneos"
   ]
  },
  {
   "cell_type": "code",
   "execution_count": 10,
   "metadata": {},
   "outputs": [],
   "source": [
    "eps = 10e-10\n",
    "def solve_multi(W, A, n, m, p):\n",
    "    for k in range(1, p + 1):\n",
    "        for j in range(n, k, -1):\n",
    "            i = j - 1\n",
    "            if abs(W[j - 1, k - 1]) > eps:\n",
    "                cos, sin = cos_sin(W, i, j, k)\n",
    "                rot_Givens(W, n, p, i, j, cos, sin)\n",
    "                rot_Givens(A, n, m, i, j, cos, sin)\n",
    "    \n",
    "    #print(W)\n",
    "    for k in range(p, 0, -1):\n",
    "        for j in range(1, m + 1):\n",
    "            soma = 0\n",
    "            for i in range(k+1,p+1):\n",
    "                soma += W[k-1,i-1]*A[i-1,j-1]\n",
    "            A[k-1,j-1] = (A[k-1,j-1] - soma)/W[k-1,k-1]"
   ]
  },
  {
   "cell_type": "code",
   "execution_count": 12,
   "metadata": {},
   "outputs": [
    {
     "name": "stdout",
     "output_type": "stream",
     "text": [
      "final\n",
      "[[ 2.33333333  2.66666667  3.        ]\n",
      " [-0.66666667 -0.33333333  0.        ]]\n"
     ]
    }
   ],
   "source": [
    "W = np.array([[1.0, 2.0], [2.0, 1.0]])\n",
    "A = np.array([[1.0,2.0,3.0],[4.0,5.0,6.0]])\n",
    "\n",
    "solve_multi(W, A, 2, 3, 2)\n",
    "print(\"final\\n{}\".format(A))"
   ]
  },
  {
   "cell_type": "markdown",
   "metadata": {},
   "source": [
    "### Fatoração por matrizes não-negativas"
   ]
  },
  {
   "cell_type": "code",
   "execution_count": 15,
   "metadata": {},
   "outputs": [],
   "source": [
    "def erro(A,W,H,n,m):\n",
    "    E = 0\n",
    "    prod = np.multiply(W,H)\n",
    "    for i in range(1,n+1):\n",
    "        for j in range(1,m+1):\n",
    "            E += (A[i-1,j-1] - prod[i-1,j-1])**2\n",
    "    return E"
   ]
  },
  {
   "cell_type": "code",
   "execution_count": 16,
   "metadata": {},
   "outputs": [],
   "source": [
    "def norm(W,n,p):\n",
    "    for j in range(1,p+1):\n",
    "        s = 0\n",
    "        for i in range(1,n+1):\n",
    "            s += (W[i-1,j-1])**2\n",
    "        s = math.sqrt(s)\n",
    "        for i in range(1,n+1):\n",
    "            W[i-1,j-1] = W[i-1,j-1]/s"
   ]
  },
  {
   "cell_type": "code",
   "execution_count": 18,
   "metadata": {},
   "outputs": [],
   "source": [
    "def set_H(A,p,m):\n",
    "    H = np.zeros(p,m)\n",
    "    for i in range(1,p+1):\n",
    "        for j in range(1,m+1):\n",
    "            if A[i-1,j-1] > 0:\n",
    "                H[i-1,j-1] = A[i-1,j-1]\n",
    "            else:\n",
    "                H[i-1,j-1] = 0\n",
    "    return H"
   ]
  },
  {
   "cell_type": "code",
   "execution_count": null,
   "metadata": {},
   "outputs": [],
   "source": [
    "eps = 10e-5\n",
    "t = 0\n",
    "it_max = 100\n",
    "def NMF(A,n,m,p):\n",
    "    W = np.random.rand(n,p)\n",
    "    A_copia = np.copy(A)\n",
    "    # convenção: iteração ímpar e1, iteração par e2\n",
    "    e1 = 0\n",
    "    e2 = 0\n",
    "    while ((abs(e1 - e2) < eps and t > 2) or t < it_max):\n",
    "        norm(W,n,p)                # normalização de W\n",
    "        solve_multi(W, A, n, m, p)\n",
    "        H = set_H(A,p,m)"
   ]
  }
 ],
 "metadata": {
  "kernelspec": {
   "display_name": "Python 3",
   "language": "python",
   "name": "python3"
  },
  "language_info": {
   "codemirror_mode": {
    "name": "ipython",
    "version": 3
   },
   "file_extension": ".py",
   "mimetype": "text/x-python",
   "name": "python",
   "nbconvert_exporter": "python",
   "pygments_lexer": "ipython3",
   "version": "3.7.8"
  }
 },
 "nbformat": 4,
 "nbformat_minor": 4
}
